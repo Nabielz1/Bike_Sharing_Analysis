{
 "cells": [
  {
   "cell_type": "markdown",
   "metadata": {
    "id": "H9wADwK78DCz"
   },
   "source": [
    "# Proyek Analisis Data: Bike Sharing\n",
    "- **Nama:** Rifqi Nabil Akbar\n",
    "- **Email:** rifqiiakbar12@gmail.com\n",
    "- **ID Dicoding:** rifqiakbar12"
   ]
  },
  {
   "cell_type": "markdown",
   "metadata": {
    "id": "eE0raob58DC0"
   },
   "source": [
    "## Menentukan Pertanyaan Bisnis"
   ]
  },
  {
   "cell_type": "markdown",
   "metadata": {
    "id": "GmQeQ5YF8DC0"
   },
   "source": [
    "- Berapa jumlah penyewa sepeda per bulan selama 2 tahun terakhir?\n",
    "\n",
    "- Bagaimana musim dapat mempengaruhi jumlah penyewaan sepeda?\n",
    "\n",
    "- Bagaimana cuaca dapat mempengaruhi jumlah penyewaan sepeda?\n",
    "\n",
    "- di hari dan jam berapakah persewaan sepeda paling banyak di lakukan?"
   ]
  },
  {
   "cell_type": "markdown",
   "metadata": {
    "id": "H-z4QGlO8DC1"
   },
   "source": [
    "## Import Semua Packages/Library yang Digunakan"
   ]
  },
  {
   "cell_type": "code",
   "execution_count": 2,
   "metadata": {
    "executionInfo": {
     "elapsed": 377,
     "status": "ok",
     "timestamp": 1727947231267,
     "user": {
      "displayName": "Steven Gramanuel",
      "userId": "10634889113243061284"
     },
     "user_tz": -420
    },
    "id": "FVYwaObI8DC1"
   },
   "outputs": [],
   "source": [
    "\n",
    "import pandas as pd\n",
    "import matplotlib.pyplot as plt\n",
    "import seaborn as sns\n",
    "import numpy as np\n",
    "import streamlit as st"
   ]
  },
  {
   "cell_type": "markdown",
   "metadata": {
    "id": "h_Sh51Xy8DC1"
   },
   "source": [
    "## Data Wrangling"
   ]
  },
  {
   "cell_type": "markdown",
   "metadata": {
    "id": "sXU2GBYu8DC1"
   },
   "source": [
    "### Gathering Data"
   ]
  },
  {
   "cell_type": "markdown",
   "metadata": {
    "id": "MMi6xGaDkbCi"
   },
   "source": [
    "**Insight:**\n",
    "- Hour.csv menampilkan data penyewaan sepeda per jamnya di setiap harinya\n",
    "- Day.csv menampilkan data penyewaan sepeda per hari"
   ]
  },
  {
   "cell_type": "markdown",
   "metadata": {
    "id": "f2GWZlB0obcm"
   },
   "source": [
    "**Membuat Dataframe menggunakan dataset Hour dan Day**\n",
    "\n",
    "**`hour_df` sebagai dataset peminjaman Perjamnya**\n",
    "\n",
    "**`day_df` sebagai dataset peminjaman Perharinya**"
   ]
  },
  {
   "cell_type": "code",
   "execution_count": 3,
   "metadata": {
    "executionInfo": {
     "elapsed": 613,
     "status": "ok",
     "timestamp": 1727947232257,
     "user": {
      "displayName": "Steven Gramanuel",
      "userId": "10634889113243061284"
     },
     "user_tz": -420
    },
    "id": "zjCBk1BI8DC1"
   },
   "outputs": [],
   "source": [
    "hour_df = pd.read_csv('https://raw.githubusercontent.com/Nabielz1/Bike_Sharing_Analysis/refs/heads/main/data/hour.csv')\n",
    "day_df =  pd.read_csv('https://raw.githubusercontent.com/Nabielz1/Bike_Sharing_Analysis/refs/heads/main/data/day.csv')"
   ]
  },
  {
   "cell_type": "markdown",
   "metadata": {
    "id": "FHSiqaZp8DC1"
   },
   "source": [
    "### Assessing Data"
   ]
  },
  {
   "cell_type": "markdown",
   "metadata": {
    "id": "foIn7fAFT2Lc"
   },
   "source": [
    "- melihat apakah ada missing value?\n",
    "- melihat apakah ada invalid value?\n",
    "- melihat apakah ada duplicate data? dll"
   ]
  },
  {
   "cell_type": "markdown",
   "metadata": {
    "id": "suQwdXaqUA9a"
   },
   "source": [
    "#### 1. Assesing `hour_df`"
   ]
  },
  {
   "cell_type": "markdown",
   "metadata": {
    "id": "CV9jcYIYpH-g"
   },
   "source": [
    "**A. Cek apakah terdapat data duplicate di** `hour_df`"
   ]
  },
  {
   "cell_type": "code",
   "execution_count": 4,
   "metadata": {
    "colab": {
     "base_uri": "https://localhost:8080/"
    },
    "executionInfo": {
     "elapsed": 32,
     "status": "ok",
     "timestamp": 1727947232257,
     "user": {
      "displayName": "Steven Gramanuel",
      "userId": "10634889113243061284"
     },
     "user_tz": -420
    },
    "id": "ax-3tEjc9Cj1",
    "outputId": "66b7bf8f-4894-4e2b-ea23-c9f0c4f53439"
   },
   "outputs": [
    {
     "name": "stdout",
     "output_type": "stream",
     "text": [
      "Jumlah duplikat pada hour_df: 0\n"
     ]
    }
   ],
   "source": [
    "print(f\"Jumlah duplikat pada hour_df: {hour_df.duplicated().sum()}\")\n"
   ]
  },
  {
   "cell_type": "markdown",
   "metadata": {
    "id": "7hiGVoUgWMJH"
   },
   "source": [
    "Tidak ada data yang duplikat di dataset hour\n"
   ]
  },
  {
   "cell_type": "markdown",
   "metadata": {
    "id": "0LDTE8U7peK9"
   },
   "source": [
    "**B. Cek apakah terdapat Missing Value di** `hour_df`"
   ]
  },
  {
   "cell_type": "code",
   "execution_count": 5,
   "metadata": {
    "colab": {
     "base_uri": "https://localhost:8080/"
    },
    "executionInfo": {
     "elapsed": 31,
     "status": "ok",
     "timestamp": 1727947232257,
     "user": {
      "displayName": "Steven Gramanuel",
      "userId": "10634889113243061284"
     },
     "user_tz": -420
    },
    "id": "_4Bb9YonUZxg",
    "outputId": "ac7287fa-4c72-4a29-d086-9963c6ce24c1"
   },
   "outputs": [
    {
     "name": "stdout",
     "output_type": "stream",
     "text": [
      "instant       0\n",
      "dteday        0\n",
      "season        0\n",
      "yr            0\n",
      "mnth          0\n",
      "hr            0\n",
      "holiday       0\n",
      "weekday       0\n",
      "workingday    0\n",
      "weathersit    0\n",
      "temp          0\n",
      "atemp         0\n",
      "hum           0\n",
      "windspeed     0\n",
      "casual        0\n",
      "registered    0\n",
      "cnt           0\n",
      "dtype: int64\n"
     ]
    }
   ],
   "source": [
    "print(hour_df.isnull().sum())\n"
   ]
  },
  {
   "cell_type": "markdown",
   "metadata": {
    "id": "44gOJooCWQ0p"
   },
   "source": [
    "Tidak ada missing value di hour datset"
   ]
  },
  {
   "cell_type": "markdown",
   "metadata": {
    "id": "L1CABzfCpti5"
   },
   "source": [
    "**C. Cek apakah terdapat Kesalahan dalam column** `hour_df`"
   ]
  },
  {
   "cell_type": "code",
   "execution_count": 6,
   "metadata": {
    "colab": {
     "base_uri": "https://localhost:8080/"
    },
    "executionInfo": {
     "elapsed": 29,
     "status": "ok",
     "timestamp": 1727947232257,
     "user": {
      "displayName": "Steven Gramanuel",
      "userId": "10634889113243061284"
     },
     "user_tz": -420
    },
    "id": "44W-6kKsUhxC",
    "outputId": "8e4d9fc9-2b11-445d-9a86-28a6e110ab8b"
   },
   "outputs": [
    {
     "name": "stdout",
     "output_type": "stream",
     "text": [
      "<class 'pandas.core.frame.DataFrame'>\n",
      "RangeIndex: 17379 entries, 0 to 17378\n",
      "Data columns (total 17 columns):\n",
      " #   Column      Non-Null Count  Dtype  \n",
      "---  ------      --------------  -----  \n",
      " 0   instant     17379 non-null  int64  \n",
      " 1   dteday      17379 non-null  object \n",
      " 2   season      17379 non-null  int64  \n",
      " 3   yr          17379 non-null  int64  \n",
      " 4   mnth        17379 non-null  int64  \n",
      " 5   hr          17379 non-null  int64  \n",
      " 6   holiday     17379 non-null  int64  \n",
      " 7   weekday     17379 non-null  int64  \n",
      " 8   workingday  17379 non-null  int64  \n",
      " 9   weathersit  17379 non-null  int64  \n",
      " 10  temp        17379 non-null  float64\n",
      " 11  atemp       17379 non-null  float64\n",
      " 12  hum         17379 non-null  float64\n",
      " 13  windspeed   17379 non-null  float64\n",
      " 14  casual      17379 non-null  int64  \n",
      " 15  registered  17379 non-null  int64  \n",
      " 16  cnt         17379 non-null  int64  \n",
      "dtypes: float64(4), int64(12), object(1)\n",
      "memory usage: 2.3+ MB\n"
     ]
    }
   ],
   "source": [
    "hour_df.info()\n"
   ]
  },
  {
   "cell_type": "markdown",
   "metadata": {
    "id": "DzoM6nkoWiZo"
   },
   "source": [
    "terdapat kesalahan tipe data di `dteday` -> seharusnya **datetime**\n",
    "\n",
    "---\n",
    "\n"
   ]
  },
  {
   "cell_type": "markdown",
   "metadata": {
    "id": "4q6BKzCTqB4k"
   },
   "source": [
    "**D. Cek apakah terdapat data duplicate di** `hour_df`"
   ]
  },
  {
   "cell_type": "code",
   "execution_count": 7,
   "metadata": {
    "colab": {
     "base_uri": "https://localhost:8080/"
    },
    "executionInfo": {
     "elapsed": 28,
     "status": "ok",
     "timestamp": 1727947232257,
     "user": {
      "displayName": "Steven Gramanuel",
      "userId": "10634889113243061284"
     },
     "user_tz": -420
    },
    "id": "3u90p-rEU44q",
    "outputId": "149fe770-1819-4365-af85-b85da3d22ce1"
   },
   "outputs": [
    {
     "name": "stdout",
     "output_type": "stream",
     "text": [
      "Jumlah unique value pada kolom instant: 17379\n",
      "Jumlah baris pada dataframe: 17379\n"
     ]
    }
   ],
   "source": [
    "\n",
    "print(f\"Jumlah unique value pada kolom instant: {hour_df['instant'].nunique()}\")\n",
    "print(f\"Jumlah baris pada dataframe: {hour_df.shape[0]}\")\n"
   ]
  },
  {
   "cell_type": "markdown",
   "metadata": {
    "id": "-4xvGJRjWrxL"
   },
   "source": [
    "unique value sesuai dengan jumlah data\n",
    "\n"
   ]
  },
  {
   "cell_type": "markdown",
   "metadata": {
    "id": "A0b88PBBp3e6"
   },
   "source": [
    "**E. Cek apakah ada inacurate atau invalid value di parameter stastistik di** `hour_df`"
   ]
  },
  {
   "cell_type": "code",
   "execution_count": 8,
   "metadata": {
    "colab": {
     "base_uri": "https://localhost:8080/"
    },
    "executionInfo": {
     "elapsed": 27,
     "status": "ok",
     "timestamp": 1727947232258,
     "user": {
      "displayName": "Steven Gramanuel",
      "userId": "10634889113243061284"
     },
     "user_tz": -420
    },
    "id": "wFMdlao6VBAS",
    "outputId": "4d6de924-e8f4-4e9c-fc4f-d594e78a0138"
   },
   "outputs": [
    {
     "name": "stdout",
     "output_type": "stream",
     "text": [
      "Unique values for season: [1 2 3 4]\n",
      "=================================================\n",
      "Unique values for yr: [0 1]\n",
      "=================================================\n",
      "Unique values for mnth: [ 1  2  3  4  5  6  7  8  9 10 11 12]\n",
      "=================================================\n",
      "Unique values for hr: [ 0  1  2  3  4  5  6  7  8  9 10 11 12 13 14 15 16 17 18 19 20 21 22 23]\n",
      "=================================================\n",
      "Unique values for holiday: [0 1]\n",
      "=================================================\n",
      "Unique values for weekday: [6 0 1 2 3 4 5]\n",
      "=================================================\n",
      "Unique values for workingday: [0 1]\n",
      "=================================================\n",
      "Unique values for weathersit: [1 2 3 4]\n",
      "=================================================\n",
      "Descriptive statistics for temp:\n",
      "count    17379.000000\n",
      "mean         0.496987\n",
      "std          0.192556\n",
      "min          0.020000\n",
      "25%          0.340000\n",
      "50%          0.500000\n",
      "75%          0.660000\n",
      "max          1.000000\n",
      "Name: temp, dtype: float64\n",
      "Descriptive statistics for atemp:\n",
      "count    17379.000000\n",
      "mean         0.475775\n",
      "std          0.171850\n",
      "min          0.000000\n",
      "25%          0.333300\n",
      "50%          0.484800\n",
      "75%          0.621200\n",
      "max          1.000000\n",
      "Name: atemp, dtype: float64\n",
      "Descriptive statistics for hum:\n",
      "count    17379.000000\n",
      "mean         0.627229\n",
      "std          0.192930\n",
      "min          0.000000\n",
      "25%          0.480000\n",
      "50%          0.630000\n",
      "75%          0.780000\n",
      "max          1.000000\n",
      "Name: hum, dtype: float64\n",
      "Descriptive statistics for windspeed:\n",
      "count    17379.000000\n",
      "mean         0.190098\n",
      "std          0.122340\n",
      "min          0.000000\n",
      "25%          0.104500\n",
      "50%          0.194000\n",
      "75%          0.253700\n",
      "max          0.850700\n",
      "Name: windspeed, dtype: float64\n",
      "Descriptive statistics for casual:\n",
      "count    17379.000000\n",
      "mean        35.676218\n",
      "std         49.305030\n",
      "min          0.000000\n",
      "25%          4.000000\n",
      "50%         17.000000\n",
      "75%         48.000000\n",
      "max        367.000000\n",
      "Name: casual, dtype: float64\n",
      "Descriptive statistics for registered:\n",
      "count    17379.000000\n",
      "mean       153.786869\n",
      "std        151.357286\n",
      "min          0.000000\n",
      "25%         34.000000\n",
      "50%        115.000000\n",
      "75%        220.000000\n",
      "max        886.000000\n",
      "Name: registered, dtype: float64\n",
      "Descriptive statistics for cnt:\n",
      "count    17379.000000\n",
      "mean       189.463088\n",
      "std        181.387599\n",
      "min          1.000000\n",
      "25%         40.000000\n",
      "50%        142.000000\n",
      "75%        281.000000\n",
      "max        977.000000\n",
      "Name: cnt, dtype: float64\n",
      "=================================================\n",
      "Tidak ada nilai hum yang tidak akurat (lebih besar dari 1)\n"
     ]
    }
   ],
   "source": [
    "for column in ['season', 'yr', 'mnth', 'hr', 'holiday', 'weekday', 'workingday', 'weathersit']:\n",
    "  print(f\"Unique values for {column}: {hour_df[column].unique()}\")\n",
    "\n",
    "  print ('=================================================')\n",
    "\n",
    "for column in ['temp', 'atemp', 'hum', 'windspeed', 'casual', 'registered', 'cnt']:\n",
    "  print(f\"Descriptive statistics for {column}:\\n{hour_df[column].describe()}\")\n",
    "print ('=================================================')\n",
    "\n",
    "if hour_df['hum'].max() > 1:\n",
    "  print(\"Ada nilai hum yang tidak akurat (lebih besar dari 1)\")\n",
    "else : print(\"Tidak ada nilai hum yang tidak akurat (lebih besar dari 1)\")\n"
   ]
  },
  {
   "cell_type": "markdown",
   "metadata": {
    "id": "S76ISZOkesS5"
   },
   "source": [
    "Tidak Terdapat kesalahan\n"
   ]
  },
  {
   "cell_type": "markdown",
   "metadata": {
    "id": "hhOq908YqmJp"
   },
   "source": [
    "#### Rangkuman\n",
    "**1. Terdapat ketidaksesuaian tipe data di kolom `dteday`**"
   ]
  },
  {
   "cell_type": "markdown",
   "metadata": {
    "id": "ca_X8vabqa7D"
   },
   "source": [
    "#### 2. Assesing `day_df`"
   ]
  },
  {
   "cell_type": "markdown",
   "metadata": {
    "id": "HN8FAk40rRNe"
   },
   "source": [
    "**A. Cek Apakah Ada Duplicate Value di** `day_df`"
   ]
  },
  {
   "cell_type": "code",
   "execution_count": 9,
   "metadata": {
    "colab": {
     "base_uri": "https://localhost:8080/"
    },
    "executionInfo": {
     "elapsed": 26,
     "status": "ok",
     "timestamp": 1727947232258,
     "user": {
      "displayName": "Steven Gramanuel",
      "userId": "10634889113243061284"
     },
     "user_tz": -420
    },
    "id": "vjqDVRHW0io8",
    "outputId": "4f2ec925-2bc4-4fe8-f89d-4a79da4171a2"
   },
   "outputs": [
    {
     "name": "stdout",
     "output_type": "stream",
     "text": [
      "Jumlah data duplicate : 0\n"
     ]
    }
   ],
   "source": [
    "print(f'Jumlah data duplicate : {day_df.duplicated().sum()}')"
   ]
  },
  {
   "cell_type": "markdown",
   "metadata": {
    "id": "bBOtPZcUrslU"
   },
   "source": [
    "Tidak ada Duplicate Value"
   ]
  },
  {
   "cell_type": "markdown",
   "metadata": {
    "id": "qikeDf0HrlyA"
   },
   "source": [
    "**B. Cek Apakah Ada Missing Value di** `day_df`"
   ]
  },
  {
   "cell_type": "code",
   "execution_count": 10,
   "metadata": {
    "colab": {
     "base_uri": "https://localhost:8080/",
     "height": 586
    },
    "executionInfo": {
     "elapsed": 23,
     "status": "ok",
     "timestamp": 1727947232258,
     "user": {
      "displayName": "Steven Gramanuel",
      "userId": "10634889113243061284"
     },
     "user_tz": -420
    },
    "id": "ucTQp18A0lmU",
    "outputId": "2582afe1-c397-4b8f-93ab-3e11f134a5cb"
   },
   "outputs": [
    {
     "data": {
      "text/plain": [
       "instant       0\n",
       "dteday        0\n",
       "season        0\n",
       "yr            0\n",
       "mnth          0\n",
       "holiday       0\n",
       "weekday       0\n",
       "workingday    0\n",
       "weathersit    0\n",
       "temp          0\n",
       "atemp         0\n",
       "hum           0\n",
       "windspeed     0\n",
       "casual        0\n",
       "registered    0\n",
       "cnt           0\n",
       "dtype: int64"
      ]
     },
     "execution_count": 10,
     "metadata": {},
     "output_type": "execute_result"
    }
   ],
   "source": [
    "day_df.isna().sum()"
   ]
  },
  {
   "cell_type": "markdown",
   "metadata": {
    "id": "U5oM9SoiryBy"
   },
   "source": [
    "Tidak ada Missing Value"
   ]
  },
  {
   "cell_type": "markdown",
   "metadata": {
    "id": "FNATXPa3fjt4"
   },
   "source": [
    "**C. Cek apakah terdapat Kesalahan dalam column** `day_df`"
   ]
  },
  {
   "cell_type": "code",
   "execution_count": 11,
   "metadata": {
    "colab": {
     "base_uri": "https://localhost:8080/"
    },
    "executionInfo": {
     "elapsed": 21,
     "status": "ok",
     "timestamp": 1727947232258,
     "user": {
      "displayName": "Steven Gramanuel",
      "userId": "10634889113243061284"
     },
     "user_tz": -420
    },
    "id": "VLGsaK8lyiC2",
    "outputId": "788c9fe4-b384-4ff0-e4ca-644f30d7bde3"
   },
   "outputs": [
    {
     "name": "stdout",
     "output_type": "stream",
     "text": [
      "<class 'pandas.core.frame.DataFrame'>\n",
      "RangeIndex: 731 entries, 0 to 730\n",
      "Data columns (total 16 columns):\n",
      " #   Column      Non-Null Count  Dtype  \n",
      "---  ------      --------------  -----  \n",
      " 0   instant     731 non-null    int64  \n",
      " 1   dteday      731 non-null    object \n",
      " 2   season      731 non-null    int64  \n",
      " 3   yr          731 non-null    int64  \n",
      " 4   mnth        731 non-null    int64  \n",
      " 5   holiday     731 non-null    int64  \n",
      " 6   weekday     731 non-null    int64  \n",
      " 7   workingday  731 non-null    int64  \n",
      " 8   weathersit  731 non-null    int64  \n",
      " 9   temp        731 non-null    float64\n",
      " 10  atemp       731 non-null    float64\n",
      " 11  hum         731 non-null    float64\n",
      " 12  windspeed   731 non-null    float64\n",
      " 13  casual      731 non-null    int64  \n",
      " 14  registered  731 non-null    int64  \n",
      " 15  cnt         731 non-null    int64  \n",
      "dtypes: float64(4), int64(11), object(1)\n",
      "memory usage: 91.5+ KB\n"
     ]
    }
   ],
   "source": [
    "day_df.info()"
   ]
  },
  {
   "cell_type": "markdown",
   "metadata": {
    "id": "PQF1KZyL4ZJk"
   },
   "source": [
    "**Terdapat kesalahan tipe data, yaitu pada kolom** `dteday` -> **seharusnya** `datetime`"
   ]
  },
  {
   "cell_type": "markdown",
   "metadata": {
    "id": "QPhe2S3GfjuD"
   },
   "source": [
    "**E. Cek apakah ada inacurate atau invalid value di parameter stastistik di** `hour_df`"
   ]
  },
  {
   "cell_type": "code",
   "execution_count": 12,
   "metadata": {
    "colab": {
     "base_uri": "https://localhost:8080/"
    },
    "executionInfo": {
     "elapsed": 20,
     "status": "ok",
     "timestamp": 1727947232258,
     "user": {
      "displayName": "Steven Gramanuel",
      "userId": "10634889113243061284"
     },
     "user_tz": -420
    },
    "id": "EqHQoVF30pLw",
    "outputId": "a74cd723-1ffd-49de-c3c7-edc31f757054"
   },
   "outputs": [
    {
     "name": "stdout",
     "output_type": "stream",
     "text": [
      "Unique values for season: [1 2 3 4]\n",
      "=================================================\n",
      "Unique values for yr: [0 1]\n",
      "=================================================\n",
      "Unique values for mnth: [ 1  2  3  4  5  6  7  8  9 10 11 12]\n",
      "=================================================\n",
      "Unique values for holiday: [0 1]\n",
      "=================================================\n",
      "Unique values for weekday: [6 0 1 2 3 4 5]\n",
      "=================================================\n",
      "Unique values for workingday: [0 1]\n",
      "=================================================\n",
      "Unique values for weathersit: [2 1 3]\n",
      "=================================================\n",
      "Descriptive statistics for temp:\n",
      "count    731.000000\n",
      "mean       0.495385\n",
      "std        0.183051\n",
      "min        0.059130\n",
      "25%        0.337083\n",
      "50%        0.498333\n",
      "75%        0.655417\n",
      "max        0.861667\n",
      "Name: temp, dtype: float64\n",
      "Descriptive statistics for atemp:\n",
      "count    731.000000\n",
      "mean       0.474354\n",
      "std        0.162961\n",
      "min        0.079070\n",
      "25%        0.337842\n",
      "50%        0.486733\n",
      "75%        0.608602\n",
      "max        0.840896\n",
      "Name: atemp, dtype: float64\n",
      "Descriptive statistics for hum:\n",
      "count    731.000000\n",
      "mean       0.627894\n",
      "std        0.142429\n",
      "min        0.000000\n",
      "25%        0.520000\n",
      "50%        0.626667\n",
      "75%        0.730209\n",
      "max        0.972500\n",
      "Name: hum, dtype: float64\n",
      "Descriptive statistics for windspeed:\n",
      "count    731.000000\n",
      "mean       0.190486\n",
      "std        0.077498\n",
      "min        0.022392\n",
      "25%        0.134950\n",
      "50%        0.180975\n",
      "75%        0.233214\n",
      "max        0.507463\n",
      "Name: windspeed, dtype: float64\n",
      "Descriptive statistics for casual:\n",
      "count     731.000000\n",
      "mean      848.176471\n",
      "std       686.622488\n",
      "min         2.000000\n",
      "25%       315.500000\n",
      "50%       713.000000\n",
      "75%      1096.000000\n",
      "max      3410.000000\n",
      "Name: casual, dtype: float64\n",
      "Descriptive statistics for registered:\n",
      "count     731.000000\n",
      "mean     3656.172367\n",
      "std      1560.256377\n",
      "min        20.000000\n",
      "25%      2497.000000\n",
      "50%      3662.000000\n",
      "75%      4776.500000\n",
      "max      6946.000000\n",
      "Name: registered, dtype: float64\n",
      "Descriptive statistics for cnt:\n",
      "count     731.000000\n",
      "mean     4504.348837\n",
      "std      1937.211452\n",
      "min        22.000000\n",
      "25%      3152.000000\n",
      "50%      4548.000000\n",
      "75%      5956.000000\n",
      "max      8714.000000\n",
      "Name: cnt, dtype: float64\n",
      "=================================================\n",
      "Tidak ada nilai hum yang tidak akurat (lebih besar dari 1)\n"
     ]
    }
   ],
   "source": [
    "\n",
    "for column in ['season', 'yr', 'mnth', 'holiday', 'weekday', 'workingday', 'weathersit']:\n",
    "  print(f\"Unique values for {column}: {day_df[column].unique()}\")\n",
    "\n",
    "  print ('=================================================')\n",
    "\n",
    "for column in ['temp', 'atemp', 'hum', 'windspeed', 'casual', 'registered', 'cnt']:\n",
    "  print(f\"Descriptive statistics for {column}:\\n{day_df[column].describe()}\")\n",
    "\n",
    "print ('=================================================')\n",
    "\n",
    "\n",
    "if day_df['hum'].max() > 1:\n",
    "  print(\"Ada nilai hum yang tidak akurat (lebih besar dari 1)\")\n",
    "else : print(\"Tidak ada nilai hum yang tidak akurat (lebih besar dari 1)\")\n"
   ]
  },
  {
   "cell_type": "markdown",
   "metadata": {
    "id": "hOQlp0BU5DQD"
   },
   "source": [
    "Tidak Ada kesalahan"
   ]
  },
  {
   "cell_type": "markdown",
   "metadata": {
    "id": "7dtxhAPrkhPL"
   },
   "source": [
    "#### Rangkuman\n",
    "**1. Terdapat ketidaksesuaian tipe data di kolom `dteday`**"
   ]
  },
  {
   "cell_type": "markdown",
   "metadata": {
    "id": "EhN5R4hr8DC1"
   },
   "source": [
    "# Cleaning Data"
   ]
  },
  {
   "cell_type": "markdown",
   "metadata": {
    "id": "A98j1sIBtar6"
   },
   "source": [
    "## **Cleaning Data** `day_df`"
   ]
  },
  {
   "cell_type": "markdown",
   "metadata": {
    "id": "KM9mW7Yvt5nd"
   },
   "source": [
    "**A. Mengganti Tipe data kolom `dteday` menjadi `datetime`**"
   ]
  },
  {
   "cell_type": "code",
   "execution_count": 13,
   "metadata": {
    "executionInfo": {
     "elapsed": 18,
     "status": "ok",
     "timestamp": 1727947232258,
     "user": {
      "displayName": "Steven Gramanuel",
      "userId": "10634889113243061284"
     },
     "user_tz": -420
    },
    "id": "bJzs4usUtZzM"
   },
   "outputs": [],
   "source": [
    "day_df['dteday'] = pd.to_datetime(day_df['dteday'])\n"
   ]
  },
  {
   "cell_type": "code",
   "execution_count": 14,
   "metadata": {
    "colab": {
     "base_uri": "https://localhost:8080/"
    },
    "executionInfo": {
     "elapsed": 18,
     "status": "ok",
     "timestamp": 1727947232258,
     "user": {
      "displayName": "Steven Gramanuel",
      "userId": "10634889113243061284"
     },
     "user_tz": -420
    },
    "id": "LKyUG4pDuTwe",
    "outputId": "d00a7a48-263d-4f87-ca4b-c9c8c22ca259"
   },
   "outputs": [
    {
     "name": "stdout",
     "output_type": "stream",
     "text": [
      "<class 'pandas.core.frame.DataFrame'>\n",
      "RangeIndex: 731 entries, 0 to 730\n",
      "Data columns (total 16 columns):\n",
      " #   Column      Non-Null Count  Dtype         \n",
      "---  ------      --------------  -----         \n",
      " 0   instant     731 non-null    int64         \n",
      " 1   dteday      731 non-null    datetime64[ns]\n",
      " 2   season      731 non-null    int64         \n",
      " 3   yr          731 non-null    int64         \n",
      " 4   mnth        731 non-null    int64         \n",
      " 5   holiday     731 non-null    int64         \n",
      " 6   weekday     731 non-null    int64         \n",
      " 7   workingday  731 non-null    int64         \n",
      " 8   weathersit  731 non-null    int64         \n",
      " 9   temp        731 non-null    float64       \n",
      " 10  atemp       731 non-null    float64       \n",
      " 11  hum         731 non-null    float64       \n",
      " 12  windspeed   731 non-null    float64       \n",
      " 13  casual      731 non-null    int64         \n",
      " 14  registered  731 non-null    int64         \n",
      " 15  cnt         731 non-null    int64         \n",
      "dtypes: datetime64[ns](1), float64(4), int64(11)\n",
      "memory usage: 91.5 KB\n"
     ]
    }
   ],
   "source": [
    "day_df.info()"
   ]
  },
  {
   "cell_type": "markdown",
   "metadata": {
    "id": "TNxhjgNquWUh"
   },
   "source": [
    "Tipe data sudah terubah"
   ]
  },
  {
   "cell_type": "markdown",
   "metadata": {
    "id": "tVBJQVwsucNo"
   },
   "source": [
    "**B. Mengganti Nama Column supaya dapat dianalisis dengan lebih baik**"
   ]
  },
  {
   "cell_type": "code",
   "execution_count": 15,
   "metadata": {
    "executionInfo": {
     "elapsed": 16,
     "status": "ok",
     "timestamp": 1727947232258,
     "user": {
      "displayName": "Steven Gramanuel",
      "userId": "10634889113243061284"
     },
     "user_tz": -420
    },
    "id": "9efLdtu4uZ9-"
   },
   "outputs": [],
   "source": [
    "new_column_names = {\n",
    "    'dteday': 'date',\n",
    "    'yr': 'year',\n",
    "    'mnth': 'month',\n",
    "    'weathersit': 'weather_condition',\n",
    "    'cnt': 'total_count'\n",
    "}\n",
    "\n",
    "day_df = day_df.rename(columns=new_column_names)\n",
    "\n"
   ]
  },
  {
   "cell_type": "code",
   "execution_count": 16,
   "metadata": {
    "colab": {
     "base_uri": "https://localhost:8080/",
     "height": 313
    },
    "executionInfo": {
     "elapsed": 15,
     "status": "ok",
     "timestamp": 1727947232258,
     "user": {
      "displayName": "Steven Gramanuel",
      "userId": "10634889113243061284"
     },
     "user_tz": -420
    },
    "id": "oHPI8Iy5u4Xc",
    "outputId": "0eaa1d32-b1ce-4ede-cc9e-8ac30cd35535"
   },
   "outputs": [
    {
     "data": {
      "text/html": [
       "<div>\n",
       "<style scoped>\n",
       "    .dataframe tbody tr th:only-of-type {\n",
       "        vertical-align: middle;\n",
       "    }\n",
       "\n",
       "    .dataframe tbody tr th {\n",
       "        vertical-align: top;\n",
       "    }\n",
       "\n",
       "    .dataframe thead th {\n",
       "        text-align: right;\n",
       "    }\n",
       "</style>\n",
       "<table border=\"1\" class=\"dataframe\">\n",
       "  <thead>\n",
       "    <tr style=\"text-align: right;\">\n",
       "      <th></th>\n",
       "      <th>instant</th>\n",
       "      <th>date</th>\n",
       "      <th>season</th>\n",
       "      <th>year</th>\n",
       "      <th>month</th>\n",
       "      <th>holiday</th>\n",
       "      <th>weekday</th>\n",
       "      <th>workingday</th>\n",
       "      <th>weather_condition</th>\n",
       "      <th>temp</th>\n",
       "      <th>atemp</th>\n",
       "      <th>hum</th>\n",
       "      <th>windspeed</th>\n",
       "      <th>casual</th>\n",
       "      <th>registered</th>\n",
       "      <th>total_count</th>\n",
       "    </tr>\n",
       "  </thead>\n",
       "  <tbody>\n",
       "    <tr>\n",
       "      <th>0</th>\n",
       "      <td>1</td>\n",
       "      <td>2011-01-01</td>\n",
       "      <td>1</td>\n",
       "      <td>0</td>\n",
       "      <td>1</td>\n",
       "      <td>0</td>\n",
       "      <td>6</td>\n",
       "      <td>0</td>\n",
       "      <td>2</td>\n",
       "      <td>0.344167</td>\n",
       "      <td>0.363625</td>\n",
       "      <td>0.805833</td>\n",
       "      <td>0.160446</td>\n",
       "      <td>331</td>\n",
       "      <td>654</td>\n",
       "      <td>985</td>\n",
       "    </tr>\n",
       "    <tr>\n",
       "      <th>1</th>\n",
       "      <td>2</td>\n",
       "      <td>2011-01-02</td>\n",
       "      <td>1</td>\n",
       "      <td>0</td>\n",
       "      <td>1</td>\n",
       "      <td>0</td>\n",
       "      <td>0</td>\n",
       "      <td>0</td>\n",
       "      <td>2</td>\n",
       "      <td>0.363478</td>\n",
       "      <td>0.353739</td>\n",
       "      <td>0.696087</td>\n",
       "      <td>0.248539</td>\n",
       "      <td>131</td>\n",
       "      <td>670</td>\n",
       "      <td>801</td>\n",
       "    </tr>\n",
       "    <tr>\n",
       "      <th>2</th>\n",
       "      <td>3</td>\n",
       "      <td>2011-01-03</td>\n",
       "      <td>1</td>\n",
       "      <td>0</td>\n",
       "      <td>1</td>\n",
       "      <td>0</td>\n",
       "      <td>1</td>\n",
       "      <td>1</td>\n",
       "      <td>1</td>\n",
       "      <td>0.196364</td>\n",
       "      <td>0.189405</td>\n",
       "      <td>0.437273</td>\n",
       "      <td>0.248309</td>\n",
       "      <td>120</td>\n",
       "      <td>1229</td>\n",
       "      <td>1349</td>\n",
       "    </tr>\n",
       "    <tr>\n",
       "      <th>3</th>\n",
       "      <td>4</td>\n",
       "      <td>2011-01-04</td>\n",
       "      <td>1</td>\n",
       "      <td>0</td>\n",
       "      <td>1</td>\n",
       "      <td>0</td>\n",
       "      <td>2</td>\n",
       "      <td>1</td>\n",
       "      <td>1</td>\n",
       "      <td>0.200000</td>\n",
       "      <td>0.212122</td>\n",
       "      <td>0.590435</td>\n",
       "      <td>0.160296</td>\n",
       "      <td>108</td>\n",
       "      <td>1454</td>\n",
       "      <td>1562</td>\n",
       "    </tr>\n",
       "    <tr>\n",
       "      <th>4</th>\n",
       "      <td>5</td>\n",
       "      <td>2011-01-05</td>\n",
       "      <td>1</td>\n",
       "      <td>0</td>\n",
       "      <td>1</td>\n",
       "      <td>0</td>\n",
       "      <td>3</td>\n",
       "      <td>1</td>\n",
       "      <td>1</td>\n",
       "      <td>0.226957</td>\n",
       "      <td>0.229270</td>\n",
       "      <td>0.436957</td>\n",
       "      <td>0.186900</td>\n",
       "      <td>82</td>\n",
       "      <td>1518</td>\n",
       "      <td>1600</td>\n",
       "    </tr>\n",
       "  </tbody>\n",
       "</table>\n",
       "</div>"
      ],
      "text/plain": [
       "   instant       date  season  year  month  holiday  weekday  workingday  \\\n",
       "0        1 2011-01-01       1     0      1        0        6           0   \n",
       "1        2 2011-01-02       1     0      1        0        0           0   \n",
       "2        3 2011-01-03       1     0      1        0        1           1   \n",
       "3        4 2011-01-04       1     0      1        0        2           1   \n",
       "4        5 2011-01-05       1     0      1        0        3           1   \n",
       "\n",
       "   weather_condition      temp     atemp       hum  windspeed  casual  \\\n",
       "0                  2  0.344167  0.363625  0.805833   0.160446     331   \n",
       "1                  2  0.363478  0.353739  0.696087   0.248539     131   \n",
       "2                  1  0.196364  0.189405  0.437273   0.248309     120   \n",
       "3                  1  0.200000  0.212122  0.590435   0.160296     108   \n",
       "4                  1  0.226957  0.229270  0.436957   0.186900      82   \n",
       "\n",
       "   registered  total_count  \n",
       "0         654          985  \n",
       "1         670          801  \n",
       "2        1229         1349  \n",
       "3        1454         1562  \n",
       "4        1518         1600  "
      ]
     },
     "execution_count": 16,
     "metadata": {},
     "output_type": "execute_result"
    }
   ],
   "source": [
    "day_df.head()"
   ]
  },
  {
   "cell_type": "markdown",
   "metadata": {
    "id": "bXd5UdcovDwO"
   },
   "source": [
    "Nama Column sudah terubah"
   ]
  },
  {
   "cell_type": "markdown",
   "metadata": {
    "id": "UMgMbhP8fjuH"
   },
   "source": [
    "**C. Mapping Column yang adad di `day_df` supaya lebih mudah dalam menganalisis**"
   ]
  },
  {
   "cell_type": "code",
   "execution_count": 17,
   "metadata": {
    "colab": {
     "base_uri": "https://localhost:8080/",
     "height": 557
    },
    "executionInfo": {
     "elapsed": 15,
     "status": "ok",
     "timestamp": 1727947232258,
     "user": {
      "displayName": "Steven Gramanuel",
      "userId": "10634889113243061284"
     },
     "user_tz": -420
    },
    "id": "2J4PH8lzvHE2",
    "outputId": "94459da5-ea63-4ca9-d696-91c09950061f"
   },
   "outputs": [
    {
     "data": {
      "text/html": [
       "<div>\n",
       "<style scoped>\n",
       "    .dataframe tbody tr th:only-of-type {\n",
       "        vertical-align: middle;\n",
       "    }\n",
       "\n",
       "    .dataframe tbody tr th {\n",
       "        vertical-align: top;\n",
       "    }\n",
       "\n",
       "    .dataframe thead th {\n",
       "        text-align: right;\n",
       "    }\n",
       "</style>\n",
       "<table border=\"1\" class=\"dataframe\">\n",
       "  <thead>\n",
       "    <tr style=\"text-align: right;\">\n",
       "      <th></th>\n",
       "      <th>instant</th>\n",
       "      <th>date</th>\n",
       "      <th>season</th>\n",
       "      <th>year</th>\n",
       "      <th>month</th>\n",
       "      <th>holiday</th>\n",
       "      <th>weekday</th>\n",
       "      <th>workingday</th>\n",
       "      <th>weather_condition</th>\n",
       "      <th>temp</th>\n",
       "      <th>atemp</th>\n",
       "      <th>hum</th>\n",
       "      <th>windspeed</th>\n",
       "      <th>casual</th>\n",
       "      <th>registered</th>\n",
       "      <th>total_count</th>\n",
       "    </tr>\n",
       "  </thead>\n",
       "  <tbody>\n",
       "    <tr>\n",
       "      <th>0</th>\n",
       "      <td>1</td>\n",
       "      <td>2011-01-01</td>\n",
       "      <td>spring</td>\n",
       "      <td>2011</td>\n",
       "      <td>Jan</td>\n",
       "      <td>0</td>\n",
       "      <td>6</td>\n",
       "      <td>0</td>\n",
       "      <td>Mist</td>\n",
       "      <td>0.344167</td>\n",
       "      <td>0.363625</td>\n",
       "      <td>0.805833</td>\n",
       "      <td>0.160446</td>\n",
       "      <td>331</td>\n",
       "      <td>654</td>\n",
       "      <td>985</td>\n",
       "    </tr>\n",
       "    <tr>\n",
       "      <th>1</th>\n",
       "      <td>2</td>\n",
       "      <td>2011-01-02</td>\n",
       "      <td>spring</td>\n",
       "      <td>2011</td>\n",
       "      <td>Jan</td>\n",
       "      <td>0</td>\n",
       "      <td>0</td>\n",
       "      <td>0</td>\n",
       "      <td>Mist</td>\n",
       "      <td>0.363478</td>\n",
       "      <td>0.353739</td>\n",
       "      <td>0.696087</td>\n",
       "      <td>0.248539</td>\n",
       "      <td>131</td>\n",
       "      <td>670</td>\n",
       "      <td>801</td>\n",
       "    </tr>\n",
       "    <tr>\n",
       "      <th>2</th>\n",
       "      <td>3</td>\n",
       "      <td>2011-01-03</td>\n",
       "      <td>spring</td>\n",
       "      <td>2011</td>\n",
       "      <td>Jan</td>\n",
       "      <td>0</td>\n",
       "      <td>1</td>\n",
       "      <td>1</td>\n",
       "      <td>Clear</td>\n",
       "      <td>0.196364</td>\n",
       "      <td>0.189405</td>\n",
       "      <td>0.437273</td>\n",
       "      <td>0.248309</td>\n",
       "      <td>120</td>\n",
       "      <td>1229</td>\n",
       "      <td>1349</td>\n",
       "    </tr>\n",
       "    <tr>\n",
       "      <th>3</th>\n",
       "      <td>4</td>\n",
       "      <td>2011-01-04</td>\n",
       "      <td>spring</td>\n",
       "      <td>2011</td>\n",
       "      <td>Jan</td>\n",
       "      <td>0</td>\n",
       "      <td>2</td>\n",
       "      <td>1</td>\n",
       "      <td>Clear</td>\n",
       "      <td>0.200000</td>\n",
       "      <td>0.212122</td>\n",
       "      <td>0.590435</td>\n",
       "      <td>0.160296</td>\n",
       "      <td>108</td>\n",
       "      <td>1454</td>\n",
       "      <td>1562</td>\n",
       "    </tr>\n",
       "    <tr>\n",
       "      <th>4</th>\n",
       "      <td>5</td>\n",
       "      <td>2011-01-05</td>\n",
       "      <td>spring</td>\n",
       "      <td>2011</td>\n",
       "      <td>Jan</td>\n",
       "      <td>0</td>\n",
       "      <td>3</td>\n",
       "      <td>1</td>\n",
       "      <td>Clear</td>\n",
       "      <td>0.226957</td>\n",
       "      <td>0.229270</td>\n",
       "      <td>0.436957</td>\n",
       "      <td>0.186900</td>\n",
       "      <td>82</td>\n",
       "      <td>1518</td>\n",
       "      <td>1600</td>\n",
       "    </tr>\n",
       "    <tr>\n",
       "      <th>5</th>\n",
       "      <td>6</td>\n",
       "      <td>2011-01-06</td>\n",
       "      <td>spring</td>\n",
       "      <td>2011</td>\n",
       "      <td>Jan</td>\n",
       "      <td>0</td>\n",
       "      <td>4</td>\n",
       "      <td>1</td>\n",
       "      <td>Clear</td>\n",
       "      <td>0.204348</td>\n",
       "      <td>0.233209</td>\n",
       "      <td>0.518261</td>\n",
       "      <td>0.089565</td>\n",
       "      <td>88</td>\n",
       "      <td>1518</td>\n",
       "      <td>1606</td>\n",
       "    </tr>\n",
       "    <tr>\n",
       "      <th>6</th>\n",
       "      <td>7</td>\n",
       "      <td>2011-01-07</td>\n",
       "      <td>spring</td>\n",
       "      <td>2011</td>\n",
       "      <td>Jan</td>\n",
       "      <td>0</td>\n",
       "      <td>5</td>\n",
       "      <td>1</td>\n",
       "      <td>Mist</td>\n",
       "      <td>0.196522</td>\n",
       "      <td>0.208839</td>\n",
       "      <td>0.498696</td>\n",
       "      <td>0.168726</td>\n",
       "      <td>148</td>\n",
       "      <td>1362</td>\n",
       "      <td>1510</td>\n",
       "    </tr>\n",
       "    <tr>\n",
       "      <th>7</th>\n",
       "      <td>8</td>\n",
       "      <td>2011-01-08</td>\n",
       "      <td>spring</td>\n",
       "      <td>2011</td>\n",
       "      <td>Jan</td>\n",
       "      <td>0</td>\n",
       "      <td>6</td>\n",
       "      <td>0</td>\n",
       "      <td>Mist</td>\n",
       "      <td>0.165000</td>\n",
       "      <td>0.162254</td>\n",
       "      <td>0.535833</td>\n",
       "      <td>0.266804</td>\n",
       "      <td>68</td>\n",
       "      <td>891</td>\n",
       "      <td>959</td>\n",
       "    </tr>\n",
       "    <tr>\n",
       "      <th>8</th>\n",
       "      <td>9</td>\n",
       "      <td>2011-01-09</td>\n",
       "      <td>spring</td>\n",
       "      <td>2011</td>\n",
       "      <td>Jan</td>\n",
       "      <td>0</td>\n",
       "      <td>0</td>\n",
       "      <td>0</td>\n",
       "      <td>Clear</td>\n",
       "      <td>0.138333</td>\n",
       "      <td>0.116175</td>\n",
       "      <td>0.434167</td>\n",
       "      <td>0.361950</td>\n",
       "      <td>54</td>\n",
       "      <td>768</td>\n",
       "      <td>822</td>\n",
       "    </tr>\n",
       "    <tr>\n",
       "      <th>9</th>\n",
       "      <td>10</td>\n",
       "      <td>2011-01-10</td>\n",
       "      <td>spring</td>\n",
       "      <td>2011</td>\n",
       "      <td>Jan</td>\n",
       "      <td>0</td>\n",
       "      <td>1</td>\n",
       "      <td>1</td>\n",
       "      <td>Clear</td>\n",
       "      <td>0.150833</td>\n",
       "      <td>0.150888</td>\n",
       "      <td>0.482917</td>\n",
       "      <td>0.223267</td>\n",
       "      <td>41</td>\n",
       "      <td>1280</td>\n",
       "      <td>1321</td>\n",
       "    </tr>\n",
       "  </tbody>\n",
       "</table>\n",
       "</div>"
      ],
      "text/plain": [
       "   instant       date  season  year month  holiday  weekday  workingday  \\\n",
       "0        1 2011-01-01  spring  2011   Jan        0        6           0   \n",
       "1        2 2011-01-02  spring  2011   Jan        0        0           0   \n",
       "2        3 2011-01-03  spring  2011   Jan        0        1           1   \n",
       "3        4 2011-01-04  spring  2011   Jan        0        2           1   \n",
       "4        5 2011-01-05  spring  2011   Jan        0        3           1   \n",
       "5        6 2011-01-06  spring  2011   Jan        0        4           1   \n",
       "6        7 2011-01-07  spring  2011   Jan        0        5           1   \n",
       "7        8 2011-01-08  spring  2011   Jan        0        6           0   \n",
       "8        9 2011-01-09  spring  2011   Jan        0        0           0   \n",
       "9       10 2011-01-10  spring  2011   Jan        0        1           1   \n",
       "\n",
       "  weather_condition      temp     atemp       hum  windspeed  casual  \\\n",
       "0              Mist  0.344167  0.363625  0.805833   0.160446     331   \n",
       "1              Mist  0.363478  0.353739  0.696087   0.248539     131   \n",
       "2             Clear  0.196364  0.189405  0.437273   0.248309     120   \n",
       "3             Clear  0.200000  0.212122  0.590435   0.160296     108   \n",
       "4             Clear  0.226957  0.229270  0.436957   0.186900      82   \n",
       "5             Clear  0.204348  0.233209  0.518261   0.089565      88   \n",
       "6              Mist  0.196522  0.208839  0.498696   0.168726     148   \n",
       "7              Mist  0.165000  0.162254  0.535833   0.266804      68   \n",
       "8             Clear  0.138333  0.116175  0.434167   0.361950      54   \n",
       "9             Clear  0.150833  0.150888  0.482917   0.223267      41   \n",
       "\n",
       "   registered  total_count  \n",
       "0         654          985  \n",
       "1         670          801  \n",
       "2        1229         1349  \n",
       "3        1454         1562  \n",
       "4        1518         1600  \n",
       "5        1518         1606  \n",
       "6        1362         1510  \n",
       "7         891          959  \n",
       "8         768          822  \n",
       "9        1280         1321  "
      ]
     },
     "execution_count": 17,
     "metadata": {},
     "output_type": "execute_result"
    }
   ],
   "source": [
    "#membuat mapping dan disimpan per variabel\n",
    "season_mapping = {1: 'spring', 2: 'summer', 3: 'autumn', 4: 'winter'}\n",
    "month_mapping = {1: 'Jan', 2: 'Feb', 3: 'Mar', 4: 'Apr', 5: 'May', 6: 'Jun',\n",
    "                 7: 'Jul', 8: 'Aug', 9: 'Sep', 10: 'Oct', 11: 'Nov', 12: 'Dec'}\n",
    "year_mapping = {0: 2011, 1: 2012}\n",
    "weather_mapping = {1: 'Clear', 2: 'Mist', 3: 'Light Rain', 4: 'Heavy Rain'}\n",
    "\n",
    "#Ganti isi kolomnya dengan yang sudah di simpan di variabel sebelumnya\n",
    "day_df['season'] = day_df['season'].map(season_mapping)\n",
    "day_df['month'] = day_df['month'].map(month_mapping)\n",
    "day_df['year'] = day_df['year'].map(year_mapping)\n",
    "day_df['weather_condition'] = day_df['weather_condition'].map(weather_mapping)\n",
    "\n",
    "day_df.head(10)\n"
   ]
  },
  {
   "cell_type": "code",
   "execution_count": 18,
   "metadata": {
    "colab": {
     "base_uri": "https://localhost:8080/",
     "height": 529
    },
    "executionInfo": {
     "elapsed": 14,
     "status": "ok",
     "timestamp": 1727947232258,
     "user": {
      "displayName": "Steven Gramanuel",
      "userId": "10634889113243061284"
     },
     "user_tz": -420
    },
    "id": "Dq2WPP83AlqY",
    "outputId": "61be0d14-51bd-4e05-8957-656d50ad5308"
   },
   "outputs": [
    {
     "data": {
      "text/html": [
       "<div>\n",
       "<style scoped>\n",
       "    .dataframe tbody tr th:only-of-type {\n",
       "        vertical-align: middle;\n",
       "    }\n",
       "\n",
       "    .dataframe tbody tr th {\n",
       "        vertical-align: top;\n",
       "    }\n",
       "\n",
       "    .dataframe thead th {\n",
       "        text-align: right;\n",
       "    }\n",
       "</style>\n",
       "<table border=\"1\" class=\"dataframe\">\n",
       "  <thead>\n",
       "    <tr style=\"text-align: right;\">\n",
       "      <th></th>\n",
       "      <th>instant</th>\n",
       "      <th>date</th>\n",
       "      <th>year</th>\n",
       "      <th>holiday</th>\n",
       "      <th>weekday</th>\n",
       "      <th>workingday</th>\n",
       "      <th>temp</th>\n",
       "      <th>atemp</th>\n",
       "      <th>hum</th>\n",
       "      <th>windspeed</th>\n",
       "      <th>casual</th>\n",
       "      <th>registered</th>\n",
       "      <th>total_count</th>\n",
       "    </tr>\n",
       "  </thead>\n",
       "  <tbody>\n",
       "    <tr>\n",
       "      <th>count</th>\n",
       "      <td>731.000000</td>\n",
       "      <td>731</td>\n",
       "      <td>731.000000</td>\n",
       "      <td>731.000000</td>\n",
       "      <td>731.000000</td>\n",
       "      <td>731.000000</td>\n",
       "      <td>731.000000</td>\n",
       "      <td>731.000000</td>\n",
       "      <td>731.000000</td>\n",
       "      <td>731.000000</td>\n",
       "      <td>731.000000</td>\n",
       "      <td>731.000000</td>\n",
       "      <td>731.000000</td>\n",
       "    </tr>\n",
       "    <tr>\n",
       "      <th>mean</th>\n",
       "      <td>366.000000</td>\n",
       "      <td>2012-01-01 00:00:00</td>\n",
       "      <td>2011.500684</td>\n",
       "      <td>0.028728</td>\n",
       "      <td>2.997264</td>\n",
       "      <td>0.683995</td>\n",
       "      <td>0.495385</td>\n",
       "      <td>0.474354</td>\n",
       "      <td>0.627894</td>\n",
       "      <td>0.190486</td>\n",
       "      <td>848.176471</td>\n",
       "      <td>3656.172367</td>\n",
       "      <td>4504.348837</td>\n",
       "    </tr>\n",
       "    <tr>\n",
       "      <th>min</th>\n",
       "      <td>1.000000</td>\n",
       "      <td>2011-01-01 00:00:00</td>\n",
       "      <td>2011.000000</td>\n",
       "      <td>0.000000</td>\n",
       "      <td>0.000000</td>\n",
       "      <td>0.000000</td>\n",
       "      <td>0.059130</td>\n",
       "      <td>0.079070</td>\n",
       "      <td>0.000000</td>\n",
       "      <td>0.022392</td>\n",
       "      <td>2.000000</td>\n",
       "      <td>20.000000</td>\n",
       "      <td>22.000000</td>\n",
       "    </tr>\n",
       "    <tr>\n",
       "      <th>25%</th>\n",
       "      <td>183.500000</td>\n",
       "      <td>2011-07-02 12:00:00</td>\n",
       "      <td>2011.000000</td>\n",
       "      <td>0.000000</td>\n",
       "      <td>1.000000</td>\n",
       "      <td>0.000000</td>\n",
       "      <td>0.337083</td>\n",
       "      <td>0.337842</td>\n",
       "      <td>0.520000</td>\n",
       "      <td>0.134950</td>\n",
       "      <td>315.500000</td>\n",
       "      <td>2497.000000</td>\n",
       "      <td>3152.000000</td>\n",
       "    </tr>\n",
       "    <tr>\n",
       "      <th>50%</th>\n",
       "      <td>366.000000</td>\n",
       "      <td>2012-01-01 00:00:00</td>\n",
       "      <td>2012.000000</td>\n",
       "      <td>0.000000</td>\n",
       "      <td>3.000000</td>\n",
       "      <td>1.000000</td>\n",
       "      <td>0.498333</td>\n",
       "      <td>0.486733</td>\n",
       "      <td>0.626667</td>\n",
       "      <td>0.180975</td>\n",
       "      <td>713.000000</td>\n",
       "      <td>3662.000000</td>\n",
       "      <td>4548.000000</td>\n",
       "    </tr>\n",
       "    <tr>\n",
       "      <th>75%</th>\n",
       "      <td>548.500000</td>\n",
       "      <td>2012-07-01 12:00:00</td>\n",
       "      <td>2012.000000</td>\n",
       "      <td>0.000000</td>\n",
       "      <td>5.000000</td>\n",
       "      <td>1.000000</td>\n",
       "      <td>0.655417</td>\n",
       "      <td>0.608602</td>\n",
       "      <td>0.730209</td>\n",
       "      <td>0.233214</td>\n",
       "      <td>1096.000000</td>\n",
       "      <td>4776.500000</td>\n",
       "      <td>5956.000000</td>\n",
       "    </tr>\n",
       "    <tr>\n",
       "      <th>max</th>\n",
       "      <td>731.000000</td>\n",
       "      <td>2012-12-31 00:00:00</td>\n",
       "      <td>2012.000000</td>\n",
       "      <td>1.000000</td>\n",
       "      <td>6.000000</td>\n",
       "      <td>1.000000</td>\n",
       "      <td>0.861667</td>\n",
       "      <td>0.840896</td>\n",
       "      <td>0.972500</td>\n",
       "      <td>0.507463</td>\n",
       "      <td>3410.000000</td>\n",
       "      <td>6946.000000</td>\n",
       "      <td>8714.000000</td>\n",
       "    </tr>\n",
       "    <tr>\n",
       "      <th>std</th>\n",
       "      <td>211.165812</td>\n",
       "      <td>NaN</td>\n",
       "      <td>0.500342</td>\n",
       "      <td>0.167155</td>\n",
       "      <td>2.004787</td>\n",
       "      <td>0.465233</td>\n",
       "      <td>0.183051</td>\n",
       "      <td>0.162961</td>\n",
       "      <td>0.142429</td>\n",
       "      <td>0.077498</td>\n",
       "      <td>686.622488</td>\n",
       "      <td>1560.256377</td>\n",
       "      <td>1937.211452</td>\n",
       "    </tr>\n",
       "  </tbody>\n",
       "</table>\n",
       "</div>"
      ],
      "text/plain": [
       "          instant                 date         year     holiday     weekday  \\\n",
       "count  731.000000                  731   731.000000  731.000000  731.000000   \n",
       "mean   366.000000  2012-01-01 00:00:00  2011.500684    0.028728    2.997264   \n",
       "min      1.000000  2011-01-01 00:00:00  2011.000000    0.000000    0.000000   \n",
       "25%    183.500000  2011-07-02 12:00:00  2011.000000    0.000000    1.000000   \n",
       "50%    366.000000  2012-01-01 00:00:00  2012.000000    0.000000    3.000000   \n",
       "75%    548.500000  2012-07-01 12:00:00  2012.000000    0.000000    5.000000   \n",
       "max    731.000000  2012-12-31 00:00:00  2012.000000    1.000000    6.000000   \n",
       "std    211.165812                  NaN     0.500342    0.167155    2.004787   \n",
       "\n",
       "       workingday        temp       atemp         hum   windspeed  \\\n",
       "count  731.000000  731.000000  731.000000  731.000000  731.000000   \n",
       "mean     0.683995    0.495385    0.474354    0.627894    0.190486   \n",
       "min      0.000000    0.059130    0.079070    0.000000    0.022392   \n",
       "25%      0.000000    0.337083    0.337842    0.520000    0.134950   \n",
       "50%      1.000000    0.498333    0.486733    0.626667    0.180975   \n",
       "75%      1.000000    0.655417    0.608602    0.730209    0.233214   \n",
       "max      1.000000    0.861667    0.840896    0.972500    0.507463   \n",
       "std      0.465233    0.183051    0.162961    0.142429    0.077498   \n",
       "\n",
       "            casual   registered  total_count  \n",
       "count   731.000000   731.000000   731.000000  \n",
       "mean    848.176471  3656.172367  4504.348837  \n",
       "min       2.000000    20.000000    22.000000  \n",
       "25%     315.500000  2497.000000  3152.000000  \n",
       "50%     713.000000  3662.000000  4548.000000  \n",
       "75%    1096.000000  4776.500000  5956.000000  \n",
       "max    3410.000000  6946.000000  8714.000000  \n",
       "std     686.622488  1560.256377  1937.211452  "
      ]
     },
     "execution_count": 18,
     "metadata": {},
     "output_type": "execute_result"
    }
   ],
   "source": [
    "day_df.describe()"
   ]
  },
  {
   "cell_type": "markdown",
   "metadata": {
    "id": "QX0HkBwczKBF"
   },
   "source": [
    "***Perubahan***\n",
    "\n",
    "1. **Season** di sesuaikan di ketentuan Readme (1:springer, 2:summer, 3:fall, 4:winter)\n",
    "\n",
    "2. **Year** di sesuaikan dengan readme (0: 2011  1:2012)\n",
    "\n",
    "3. **Mont** diganti menjadi 3 huruf awal bulan untuk memudahkan analisis dan visual nantinya\n",
    "\n",
    "4. **weather** di sesuaikan dengan Readme (1: 'Clear', 2: 'Mist', 3: 'Light Rain', 4: 'Heavy Rain')\n",
    "\n"
   ]
  },
  {
   "cell_type": "markdown",
   "metadata": {
    "id": "Ot04zLPWfjuI"
   },
   "source": [
    "**D. Drop kolom yang tidak digunakan untuk menjawab pertanyaan bisnis**"
   ]
  },
  {
   "cell_type": "code",
   "execution_count": 19,
   "metadata": {
    "executionInfo": {
     "elapsed": 583,
     "status": "ok",
     "timestamp": 1727947232828,
     "user": {
      "displayName": "Steven Gramanuel",
      "userId": "10634889113243061284"
     },
     "user_tz": -420
    },
    "id": "p-7VAjIpfjuJ"
   },
   "outputs": [],
   "source": [
    "drop_col = ['windspeed', 'hum', 'temp', 'atemp', 'windspeed']\n",
    "day_df.drop(drop_col, axis=1, inplace=True)"
   ]
  },
  {
   "cell_type": "markdown",
   "metadata": {
    "id": "VBgdjYhzXFD_"
   },
   "source": [
    "## **Cleaning Data `hour_df`**"
   ]
  },
  {
   "cell_type": "markdown",
   "metadata": {
    "id": "ZipI7AHcXb8Q"
   },
   "source": [
    "**A. Mengganti Tipe data kolom dteday menjadi datetime**\n",
    "\n",
    "\n"
   ]
  },
  {
   "cell_type": "code",
   "execution_count": 20,
   "metadata": {
    "executionInfo": {
     "elapsed": 22,
     "status": "ok",
     "timestamp": 1727947232828,
     "user": {
      "displayName": "Steven Gramanuel",
      "userId": "10634889113243061284"
     },
     "user_tz": -420
    },
    "id": "HoZhbr1EXDos"
   },
   "outputs": [],
   "source": [
    "hour_df['dteday'] = pd.to_datetime(hour_df['dteday'])"
   ]
  },
  {
   "cell_type": "code",
   "execution_count": 21,
   "metadata": {
    "colab": {
     "base_uri": "https://localhost:8080/"
    },
    "executionInfo": {
     "elapsed": 21,
     "status": "ok",
     "timestamp": 1727947232828,
     "user": {
      "displayName": "Steven Gramanuel",
      "userId": "10634889113243061284"
     },
     "user_tz": -420
    },
    "id": "aowYPLe6DAk0",
    "outputId": "d2f3d717-2e27-41e0-80d8-1063056c862e"
   },
   "outputs": [
    {
     "name": "stdout",
     "output_type": "stream",
     "text": [
      "<class 'pandas.core.frame.DataFrame'>\n",
      "RangeIndex: 17379 entries, 0 to 17378\n",
      "Data columns (total 17 columns):\n",
      " #   Column      Non-Null Count  Dtype         \n",
      "---  ------      --------------  -----         \n",
      " 0   instant     17379 non-null  int64         \n",
      " 1   dteday      17379 non-null  datetime64[ns]\n",
      " 2   season      17379 non-null  int64         \n",
      " 3   yr          17379 non-null  int64         \n",
      " 4   mnth        17379 non-null  int64         \n",
      " 5   hr          17379 non-null  int64         \n",
      " 6   holiday     17379 non-null  int64         \n",
      " 7   weekday     17379 non-null  int64         \n",
      " 8   workingday  17379 non-null  int64         \n",
      " 9   weathersit  17379 non-null  int64         \n",
      " 10  temp        17379 non-null  float64       \n",
      " 11  atemp       17379 non-null  float64       \n",
      " 12  hum         17379 non-null  float64       \n",
      " 13  windspeed   17379 non-null  float64       \n",
      " 14  casual      17379 non-null  int64         \n",
      " 15  registered  17379 non-null  int64         \n",
      " 16  cnt         17379 non-null  int64         \n",
      "dtypes: datetime64[ns](1), float64(4), int64(12)\n",
      "memory usage: 2.3 MB\n"
     ]
    }
   ],
   "source": [
    "hour_df.info()"
   ]
  },
  {
   "cell_type": "markdown",
   "metadata": {
    "id": "Gla0theAXwa5"
   },
   "source": [
    "**Tipe data sudah terganti**"
   ]
  },
  {
   "cell_type": "markdown",
   "metadata": {
    "id": "dgR0uVseX6gt"
   },
   "source": [
    "**B. Mengubah Nama Column agar mudah di analisis**"
   ]
  },
  {
   "cell_type": "code",
   "execution_count": 22,
   "metadata": {
    "executionInfo": {
     "elapsed": 21,
     "status": "ok",
     "timestamp": 1727947232828,
     "user": {
      "displayName": "Steven Gramanuel",
      "userId": "10634889113243061284"
     },
     "user_tz": -420
    },
    "id": "cdBRLMQkXzzd"
   },
   "outputs": [],
   "source": [
    "new_column_names = {\n",
    "    'dteday': 'date',\n",
    "    'yr': 'year',\n",
    "    'mnth': 'month',\n",
    "    'weathersit': 'weather_condition',\n",
    "    'cnt': 'total_count',\n",
    "    'hr': 'hour'\n",
    "}\n",
    "\n",
    "hour_df = hour_df.rename(columns=new_column_names)  # Mengganti nama kolom dengan yang baru"
   ]
  },
  {
   "cell_type": "code",
   "execution_count": 23,
   "metadata": {
    "colab": {
     "base_uri": "https://localhost:8080/",
     "height": 313
    },
    "executionInfo": {
     "elapsed": 20,
     "status": "ok",
     "timestamp": 1727947232828,
     "user": {
      "displayName": "Steven Gramanuel",
      "userId": "10634889113243061284"
     },
     "user_tz": -420
    },
    "id": "GTIG2ItLYBrq",
    "outputId": "aef12ca3-eebb-492f-9f98-671bcce47c1a"
   },
   "outputs": [
    {
     "data": {
      "text/html": [
       "<div>\n",
       "<style scoped>\n",
       "    .dataframe tbody tr th:only-of-type {\n",
       "        vertical-align: middle;\n",
       "    }\n",
       "\n",
       "    .dataframe tbody tr th {\n",
       "        vertical-align: top;\n",
       "    }\n",
       "\n",
       "    .dataframe thead th {\n",
       "        text-align: right;\n",
       "    }\n",
       "</style>\n",
       "<table border=\"1\" class=\"dataframe\">\n",
       "  <thead>\n",
       "    <tr style=\"text-align: right;\">\n",
       "      <th></th>\n",
       "      <th>instant</th>\n",
       "      <th>date</th>\n",
       "      <th>season</th>\n",
       "      <th>year</th>\n",
       "      <th>month</th>\n",
       "      <th>hour</th>\n",
       "      <th>holiday</th>\n",
       "      <th>weekday</th>\n",
       "      <th>workingday</th>\n",
       "      <th>weather_condition</th>\n",
       "      <th>temp</th>\n",
       "      <th>atemp</th>\n",
       "      <th>hum</th>\n",
       "      <th>windspeed</th>\n",
       "      <th>casual</th>\n",
       "      <th>registered</th>\n",
       "      <th>total_count</th>\n",
       "    </tr>\n",
       "  </thead>\n",
       "  <tbody>\n",
       "    <tr>\n",
       "      <th>0</th>\n",
       "      <td>1</td>\n",
       "      <td>2011-01-01</td>\n",
       "      <td>1</td>\n",
       "      <td>0</td>\n",
       "      <td>1</td>\n",
       "      <td>0</td>\n",
       "      <td>0</td>\n",
       "      <td>6</td>\n",
       "      <td>0</td>\n",
       "      <td>1</td>\n",
       "      <td>0.24</td>\n",
       "      <td>0.2879</td>\n",
       "      <td>0.81</td>\n",
       "      <td>0.0</td>\n",
       "      <td>3</td>\n",
       "      <td>13</td>\n",
       "      <td>16</td>\n",
       "    </tr>\n",
       "    <tr>\n",
       "      <th>1</th>\n",
       "      <td>2</td>\n",
       "      <td>2011-01-01</td>\n",
       "      <td>1</td>\n",
       "      <td>0</td>\n",
       "      <td>1</td>\n",
       "      <td>1</td>\n",
       "      <td>0</td>\n",
       "      <td>6</td>\n",
       "      <td>0</td>\n",
       "      <td>1</td>\n",
       "      <td>0.22</td>\n",
       "      <td>0.2727</td>\n",
       "      <td>0.80</td>\n",
       "      <td>0.0</td>\n",
       "      <td>8</td>\n",
       "      <td>32</td>\n",
       "      <td>40</td>\n",
       "    </tr>\n",
       "    <tr>\n",
       "      <th>2</th>\n",
       "      <td>3</td>\n",
       "      <td>2011-01-01</td>\n",
       "      <td>1</td>\n",
       "      <td>0</td>\n",
       "      <td>1</td>\n",
       "      <td>2</td>\n",
       "      <td>0</td>\n",
       "      <td>6</td>\n",
       "      <td>0</td>\n",
       "      <td>1</td>\n",
       "      <td>0.22</td>\n",
       "      <td>0.2727</td>\n",
       "      <td>0.80</td>\n",
       "      <td>0.0</td>\n",
       "      <td>5</td>\n",
       "      <td>27</td>\n",
       "      <td>32</td>\n",
       "    </tr>\n",
       "    <tr>\n",
       "      <th>3</th>\n",
       "      <td>4</td>\n",
       "      <td>2011-01-01</td>\n",
       "      <td>1</td>\n",
       "      <td>0</td>\n",
       "      <td>1</td>\n",
       "      <td>3</td>\n",
       "      <td>0</td>\n",
       "      <td>6</td>\n",
       "      <td>0</td>\n",
       "      <td>1</td>\n",
       "      <td>0.24</td>\n",
       "      <td>0.2879</td>\n",
       "      <td>0.75</td>\n",
       "      <td>0.0</td>\n",
       "      <td>3</td>\n",
       "      <td>10</td>\n",
       "      <td>13</td>\n",
       "    </tr>\n",
       "    <tr>\n",
       "      <th>4</th>\n",
       "      <td>5</td>\n",
       "      <td>2011-01-01</td>\n",
       "      <td>1</td>\n",
       "      <td>0</td>\n",
       "      <td>1</td>\n",
       "      <td>4</td>\n",
       "      <td>0</td>\n",
       "      <td>6</td>\n",
       "      <td>0</td>\n",
       "      <td>1</td>\n",
       "      <td>0.24</td>\n",
       "      <td>0.2879</td>\n",
       "      <td>0.75</td>\n",
       "      <td>0.0</td>\n",
       "      <td>0</td>\n",
       "      <td>1</td>\n",
       "      <td>1</td>\n",
       "    </tr>\n",
       "  </tbody>\n",
       "</table>\n",
       "</div>"
      ],
      "text/plain": [
       "   instant       date  season  year  month  hour  holiday  weekday  \\\n",
       "0        1 2011-01-01       1     0      1     0        0        6   \n",
       "1        2 2011-01-01       1     0      1     1        0        6   \n",
       "2        3 2011-01-01       1     0      1     2        0        6   \n",
       "3        4 2011-01-01       1     0      1     3        0        6   \n",
       "4        5 2011-01-01       1     0      1     4        0        6   \n",
       "\n",
       "   workingday  weather_condition  temp   atemp   hum  windspeed  casual  \\\n",
       "0           0                  1  0.24  0.2879  0.81        0.0       3   \n",
       "1           0                  1  0.22  0.2727  0.80        0.0       8   \n",
       "2           0                  1  0.22  0.2727  0.80        0.0       5   \n",
       "3           0                  1  0.24  0.2879  0.75        0.0       3   \n",
       "4           0                  1  0.24  0.2879  0.75        0.0       0   \n",
       "\n",
       "   registered  total_count  \n",
       "0          13           16  \n",
       "1          32           40  \n",
       "2          27           32  \n",
       "3          10           13  \n",
       "4           1            1  "
      ]
     },
     "execution_count": 23,
     "metadata": {},
     "output_type": "execute_result"
    }
   ],
   "source": [
    "hour_df.head()"
   ]
  },
  {
   "cell_type": "markdown",
   "metadata": {
    "id": "qTHwOdJwZ17Z"
   },
   "source": [
    "**Nama Column Sudah terubah**"
   ]
  },
  {
   "cell_type": "markdown",
   "metadata": {
    "id": "rLOW7j9waJ3V"
   },
   "source": [
    "**C. Mengubah isi column sesuai dengan ketentuan supaya lebih mudah di analisis dan divisualkan**\n"
   ]
  },
  {
   "cell_type": "code",
   "execution_count": 24,
   "metadata": {
    "colab": {
     "base_uri": "https://localhost:8080/",
     "height": 557
    },
    "executionInfo": {
     "elapsed": 21,
     "status": "ok",
     "timestamp": 1727947232829,
     "user": {
      "displayName": "Steven Gramanuel",
      "userId": "10634889113243061284"
     },
     "user_tz": -420
    },
    "id": "oiQeIJeGYFhy",
    "outputId": "191a3b5b-43cb-4f4c-c34e-50ad41fb35e1"
   },
   "outputs": [
    {
     "data": {
      "text/html": [
       "<div>\n",
       "<style scoped>\n",
       "    .dataframe tbody tr th:only-of-type {\n",
       "        vertical-align: middle;\n",
       "    }\n",
       "\n",
       "    .dataframe tbody tr th {\n",
       "        vertical-align: top;\n",
       "    }\n",
       "\n",
       "    .dataframe thead th {\n",
       "        text-align: right;\n",
       "    }\n",
       "</style>\n",
       "<table border=\"1\" class=\"dataframe\">\n",
       "  <thead>\n",
       "    <tr style=\"text-align: right;\">\n",
       "      <th></th>\n",
       "      <th>instant</th>\n",
       "      <th>date</th>\n",
       "      <th>season</th>\n",
       "      <th>year</th>\n",
       "      <th>month</th>\n",
       "      <th>hour</th>\n",
       "      <th>holiday</th>\n",
       "      <th>weekday</th>\n",
       "      <th>workingday</th>\n",
       "      <th>weather_condition</th>\n",
       "      <th>temp</th>\n",
       "      <th>atemp</th>\n",
       "      <th>hum</th>\n",
       "      <th>windspeed</th>\n",
       "      <th>casual</th>\n",
       "      <th>registered</th>\n",
       "      <th>total_count</th>\n",
       "    </tr>\n",
       "  </thead>\n",
       "  <tbody>\n",
       "    <tr>\n",
       "      <th>0</th>\n",
       "      <td>1</td>\n",
       "      <td>2011-01-01</td>\n",
       "      <td>spring</td>\n",
       "      <td>2011</td>\n",
       "      <td>Jan</td>\n",
       "      <td>0</td>\n",
       "      <td>0</td>\n",
       "      <td>6</td>\n",
       "      <td>0</td>\n",
       "      <td>Clear</td>\n",
       "      <td>0.24</td>\n",
       "      <td>0.2879</td>\n",
       "      <td>0.81</td>\n",
       "      <td>0.0000</td>\n",
       "      <td>3</td>\n",
       "      <td>13</td>\n",
       "      <td>16</td>\n",
       "    </tr>\n",
       "    <tr>\n",
       "      <th>1</th>\n",
       "      <td>2</td>\n",
       "      <td>2011-01-01</td>\n",
       "      <td>spring</td>\n",
       "      <td>2011</td>\n",
       "      <td>Jan</td>\n",
       "      <td>1</td>\n",
       "      <td>0</td>\n",
       "      <td>6</td>\n",
       "      <td>0</td>\n",
       "      <td>Clear</td>\n",
       "      <td>0.22</td>\n",
       "      <td>0.2727</td>\n",
       "      <td>0.80</td>\n",
       "      <td>0.0000</td>\n",
       "      <td>8</td>\n",
       "      <td>32</td>\n",
       "      <td>40</td>\n",
       "    </tr>\n",
       "    <tr>\n",
       "      <th>2</th>\n",
       "      <td>3</td>\n",
       "      <td>2011-01-01</td>\n",
       "      <td>spring</td>\n",
       "      <td>2011</td>\n",
       "      <td>Jan</td>\n",
       "      <td>2</td>\n",
       "      <td>0</td>\n",
       "      <td>6</td>\n",
       "      <td>0</td>\n",
       "      <td>Clear</td>\n",
       "      <td>0.22</td>\n",
       "      <td>0.2727</td>\n",
       "      <td>0.80</td>\n",
       "      <td>0.0000</td>\n",
       "      <td>5</td>\n",
       "      <td>27</td>\n",
       "      <td>32</td>\n",
       "    </tr>\n",
       "    <tr>\n",
       "      <th>3</th>\n",
       "      <td>4</td>\n",
       "      <td>2011-01-01</td>\n",
       "      <td>spring</td>\n",
       "      <td>2011</td>\n",
       "      <td>Jan</td>\n",
       "      <td>3</td>\n",
       "      <td>0</td>\n",
       "      <td>6</td>\n",
       "      <td>0</td>\n",
       "      <td>Clear</td>\n",
       "      <td>0.24</td>\n",
       "      <td>0.2879</td>\n",
       "      <td>0.75</td>\n",
       "      <td>0.0000</td>\n",
       "      <td>3</td>\n",
       "      <td>10</td>\n",
       "      <td>13</td>\n",
       "    </tr>\n",
       "    <tr>\n",
       "      <th>4</th>\n",
       "      <td>5</td>\n",
       "      <td>2011-01-01</td>\n",
       "      <td>spring</td>\n",
       "      <td>2011</td>\n",
       "      <td>Jan</td>\n",
       "      <td>4</td>\n",
       "      <td>0</td>\n",
       "      <td>6</td>\n",
       "      <td>0</td>\n",
       "      <td>Clear</td>\n",
       "      <td>0.24</td>\n",
       "      <td>0.2879</td>\n",
       "      <td>0.75</td>\n",
       "      <td>0.0000</td>\n",
       "      <td>0</td>\n",
       "      <td>1</td>\n",
       "      <td>1</td>\n",
       "    </tr>\n",
       "    <tr>\n",
       "      <th>5</th>\n",
       "      <td>6</td>\n",
       "      <td>2011-01-01</td>\n",
       "      <td>spring</td>\n",
       "      <td>2011</td>\n",
       "      <td>Jan</td>\n",
       "      <td>5</td>\n",
       "      <td>0</td>\n",
       "      <td>6</td>\n",
       "      <td>0</td>\n",
       "      <td>Mist</td>\n",
       "      <td>0.24</td>\n",
       "      <td>0.2576</td>\n",
       "      <td>0.75</td>\n",
       "      <td>0.0896</td>\n",
       "      <td>0</td>\n",
       "      <td>1</td>\n",
       "      <td>1</td>\n",
       "    </tr>\n",
       "    <tr>\n",
       "      <th>6</th>\n",
       "      <td>7</td>\n",
       "      <td>2011-01-01</td>\n",
       "      <td>spring</td>\n",
       "      <td>2011</td>\n",
       "      <td>Jan</td>\n",
       "      <td>6</td>\n",
       "      <td>0</td>\n",
       "      <td>6</td>\n",
       "      <td>0</td>\n",
       "      <td>Clear</td>\n",
       "      <td>0.22</td>\n",
       "      <td>0.2727</td>\n",
       "      <td>0.80</td>\n",
       "      <td>0.0000</td>\n",
       "      <td>2</td>\n",
       "      <td>0</td>\n",
       "      <td>2</td>\n",
       "    </tr>\n",
       "    <tr>\n",
       "      <th>7</th>\n",
       "      <td>8</td>\n",
       "      <td>2011-01-01</td>\n",
       "      <td>spring</td>\n",
       "      <td>2011</td>\n",
       "      <td>Jan</td>\n",
       "      <td>7</td>\n",
       "      <td>0</td>\n",
       "      <td>6</td>\n",
       "      <td>0</td>\n",
       "      <td>Clear</td>\n",
       "      <td>0.20</td>\n",
       "      <td>0.2576</td>\n",
       "      <td>0.86</td>\n",
       "      <td>0.0000</td>\n",
       "      <td>1</td>\n",
       "      <td>2</td>\n",
       "      <td>3</td>\n",
       "    </tr>\n",
       "    <tr>\n",
       "      <th>8</th>\n",
       "      <td>9</td>\n",
       "      <td>2011-01-01</td>\n",
       "      <td>spring</td>\n",
       "      <td>2011</td>\n",
       "      <td>Jan</td>\n",
       "      <td>8</td>\n",
       "      <td>0</td>\n",
       "      <td>6</td>\n",
       "      <td>0</td>\n",
       "      <td>Clear</td>\n",
       "      <td>0.24</td>\n",
       "      <td>0.2879</td>\n",
       "      <td>0.75</td>\n",
       "      <td>0.0000</td>\n",
       "      <td>1</td>\n",
       "      <td>7</td>\n",
       "      <td>8</td>\n",
       "    </tr>\n",
       "    <tr>\n",
       "      <th>9</th>\n",
       "      <td>10</td>\n",
       "      <td>2011-01-01</td>\n",
       "      <td>spring</td>\n",
       "      <td>2011</td>\n",
       "      <td>Jan</td>\n",
       "      <td>9</td>\n",
       "      <td>0</td>\n",
       "      <td>6</td>\n",
       "      <td>0</td>\n",
       "      <td>Clear</td>\n",
       "      <td>0.32</td>\n",
       "      <td>0.3485</td>\n",
       "      <td>0.76</td>\n",
       "      <td>0.0000</td>\n",
       "      <td>8</td>\n",
       "      <td>6</td>\n",
       "      <td>14</td>\n",
       "    </tr>\n",
       "  </tbody>\n",
       "</table>\n",
       "</div>"
      ],
      "text/plain": [
       "   instant       date  season  year month  hour  holiday  weekday  workingday  \\\n",
       "0        1 2011-01-01  spring  2011   Jan     0        0        6           0   \n",
       "1        2 2011-01-01  spring  2011   Jan     1        0        6           0   \n",
       "2        3 2011-01-01  spring  2011   Jan     2        0        6           0   \n",
       "3        4 2011-01-01  spring  2011   Jan     3        0        6           0   \n",
       "4        5 2011-01-01  spring  2011   Jan     4        0        6           0   \n",
       "5        6 2011-01-01  spring  2011   Jan     5        0        6           0   \n",
       "6        7 2011-01-01  spring  2011   Jan     6        0        6           0   \n",
       "7        8 2011-01-01  spring  2011   Jan     7        0        6           0   \n",
       "8        9 2011-01-01  spring  2011   Jan     8        0        6           0   \n",
       "9       10 2011-01-01  spring  2011   Jan     9        0        6           0   \n",
       "\n",
       "  weather_condition  temp   atemp   hum  windspeed  casual  registered  \\\n",
       "0             Clear  0.24  0.2879  0.81     0.0000       3          13   \n",
       "1             Clear  0.22  0.2727  0.80     0.0000       8          32   \n",
       "2             Clear  0.22  0.2727  0.80     0.0000       5          27   \n",
       "3             Clear  0.24  0.2879  0.75     0.0000       3          10   \n",
       "4             Clear  0.24  0.2879  0.75     0.0000       0           1   \n",
       "5              Mist  0.24  0.2576  0.75     0.0896       0           1   \n",
       "6             Clear  0.22  0.2727  0.80     0.0000       2           0   \n",
       "7             Clear  0.20  0.2576  0.86     0.0000       1           2   \n",
       "8             Clear  0.24  0.2879  0.75     0.0000       1           7   \n",
       "9             Clear  0.32  0.3485  0.76     0.0000       8           6   \n",
       "\n",
       "   total_count  \n",
       "0           16  \n",
       "1           40  \n",
       "2           32  \n",
       "3           13  \n",
       "4            1  \n",
       "5            1  \n",
       "6            2  \n",
       "7            3  \n",
       "8            8  \n",
       "9           14  "
      ]
     },
     "execution_count": 24,
     "metadata": {},
     "output_type": "execute_result"
    }
   ],
   "source": [
    "#membuat mapping dan disimpan per variabel\n",
    "season_mapping = {1: 'spring', 2: 'summer', 3: 'autumn', 4: 'winter'}\n",
    "month_mapping = {1: 'Jan', 2: 'Feb', 3: 'Mar', 4: 'Apr', 5: 'May', 6: 'Jun',\n",
    "                 7: 'Jul', 8: 'Aug', 9: 'Sep', 10: 'Oct', 11: 'Nov', 12: 'Dec'}\n",
    "year_mapping = {0: 2011, 1: 2012}\n",
    "weather_mapping = {1: 'Clear', 2: 'Mist', 3: 'Light Rain', 4: 'Heavy Rain'}\n",
    "\n",
    "#Ganti isi kolomnya dengan yang sudah di simpan di variabel sebelumnya\n",
    "hour_df['season'] = hour_df['season'].map(season_mapping)\n",
    "hour_df['month'] = hour_df['month'].map(month_mapping)\n",
    "hour_df['year'] = hour_df['year'].map(year_mapping)\n",
    "hour_df['weather_condition'] = hour_df['weather_condition'].map(weather_mapping)\n",
    "\n",
    "hour_df.head(10)"
   ]
  },
  {
   "cell_type": "markdown",
   "metadata": {
    "id": "PXk-jH0XaHzX"
   },
   "source": [
    "***Perubahan***\n",
    "\n",
    "1. **Season** di sesuaikan di ketentuan Readme (1:springer, 2:summer, 3:fall, 4:winter)\n",
    "\n",
    "2. **Year** di sesuaikan dengan readme (0: 2011  1:2012)\n",
    "\n",
    "3. **Month** diganti menjadi 3 huruf awal bulan untuk memudahkan analisis dan visual nantinya\n",
    "\n",
    "4. **weather** di sesuaikan dengan Readme (1: 'Clear', 2: 'Mist', 3: 'Light Rain', 4: 'Heavy Rain')\n",
    "\n"
   ]
  },
  {
   "cell_type": "markdown",
   "metadata": {
    "id": "txUfKqu8fjuN"
   },
   "source": [
    "**D. Drop Column temp, atemp, hum karena tidak digunakan analisis**"
   ]
  },
  {
   "cell_type": "code",
   "execution_count": 25,
   "metadata": {
    "executionInfo": {
     "elapsed": 20,
     "status": "ok",
     "timestamp": 1727947232829,
     "user": {
      "displayName": "Steven Gramanuel",
      "userId": "10634889113243061284"
     },
     "user_tz": -420
    },
    "id": "dFJ4-5BwfjuN"
   },
   "outputs": [],
   "source": [
    "drop_col = ['windspeed', 'hum', 'temp', 'atemp', 'windspeed']\n",
    "hour_df.drop(drop_col, axis=1, inplace=True)"
   ]
  },
  {
   "cell_type": "markdown",
   "metadata": {
    "id": "gp-Y6wU38DC1"
   },
   "source": [
    "# Exploratory Data Analysis (EDA)"
   ]
  },
  {
   "cell_type": "markdown",
   "metadata": {
    "id": "2UrCJSRObZHQ"
   },
   "source": [
    "**A. Mencari Tahu berapa jumlah penyewaan sepeda perbulannya di 2 tahun terakhir**\n"
   ]
  },
  {
   "cell_type": "code",
   "execution_count": 26,
   "metadata": {
    "colab": {
     "base_uri": "https://localhost:8080/",
     "height": 865
    },
    "executionInfo": {
     "elapsed": 19,
     "status": "ok",
     "timestamp": 1727947232829,
     "user": {
      "displayName": "Steven Gramanuel",
      "userId": "10634889113243061284"
     },
     "user_tz": -420
    },
    "id": "n7bOvqJxbJ7x",
    "outputId": "11282ba8-75bb-4ad1-f184-aa15509036a0"
   },
   "outputs": [
    {
     "data": {
      "text/html": [
       "<div>\n",
       "<style scoped>\n",
       "    .dataframe tbody tr th:only-of-type {\n",
       "        vertical-align: middle;\n",
       "    }\n",
       "\n",
       "    .dataframe tbody tr th {\n",
       "        vertical-align: top;\n",
       "    }\n",
       "\n",
       "    .dataframe thead tr th {\n",
       "        text-align: left;\n",
       "    }\n",
       "\n",
       "    .dataframe thead tr:last-of-type th {\n",
       "        text-align: right;\n",
       "    }\n",
       "</style>\n",
       "<table border=\"1\" class=\"dataframe\">\n",
       "  <thead>\n",
       "    <tr>\n",
       "      <th></th>\n",
       "      <th></th>\n",
       "      <th colspan=\"4\" halign=\"left\">total_count</th>\n",
       "    </tr>\n",
       "    <tr>\n",
       "      <th></th>\n",
       "      <th></th>\n",
       "      <th>sum</th>\n",
       "      <th>min</th>\n",
       "      <th>max</th>\n",
       "      <th>mean</th>\n",
       "    </tr>\n",
       "    <tr>\n",
       "      <th>year</th>\n",
       "      <th>month</th>\n",
       "      <th></th>\n",
       "      <th></th>\n",
       "      <th></th>\n",
       "      <th></th>\n",
       "    </tr>\n",
       "  </thead>\n",
       "  <tbody>\n",
       "    <tr>\n",
       "      <th rowspan=\"12\" valign=\"top\">2011</th>\n",
       "      <th>Apr</th>\n",
       "      <td>94870</td>\n",
       "      <td>795</td>\n",
       "      <td>5312</td>\n",
       "      <td>3162.33</td>\n",
       "    </tr>\n",
       "    <tr>\n",
       "      <th>Aug</th>\n",
       "      <td>136691</td>\n",
       "      <td>1115</td>\n",
       "      <td>5895</td>\n",
       "      <td>4409.39</td>\n",
       "    </tr>\n",
       "    <tr>\n",
       "      <th>Dec</th>\n",
       "      <td>87323</td>\n",
       "      <td>705</td>\n",
       "      <td>3940</td>\n",
       "      <td>2816.87</td>\n",
       "    </tr>\n",
       "    <tr>\n",
       "      <th>Feb</th>\n",
       "      <td>48215</td>\n",
       "      <td>1005</td>\n",
       "      <td>2927</td>\n",
       "      <td>1721.96</td>\n",
       "    </tr>\n",
       "    <tr>\n",
       "      <th>Jan</th>\n",
       "      <td>38189</td>\n",
       "      <td>431</td>\n",
       "      <td>1985</td>\n",
       "      <td>1231.90</td>\n",
       "    </tr>\n",
       "    <tr>\n",
       "      <th>Jul</th>\n",
       "      <td>141341</td>\n",
       "      <td>3285</td>\n",
       "      <td>6043</td>\n",
       "      <td>4559.39</td>\n",
       "    </tr>\n",
       "    <tr>\n",
       "      <th>Jun</th>\n",
       "      <td>143512</td>\n",
       "      <td>3767</td>\n",
       "      <td>5515</td>\n",
       "      <td>4783.73</td>\n",
       "    </tr>\n",
       "    <tr>\n",
       "      <th>Mar</th>\n",
       "      <td>64045</td>\n",
       "      <td>605</td>\n",
       "      <td>3239</td>\n",
       "      <td>2065.97</td>\n",
       "    </tr>\n",
       "    <tr>\n",
       "      <th>May</th>\n",
       "      <td>135821</td>\n",
       "      <td>2633</td>\n",
       "      <td>5805</td>\n",
       "      <td>4381.32</td>\n",
       "    </tr>\n",
       "    <tr>\n",
       "      <th>Nov</th>\n",
       "      <td>102167</td>\n",
       "      <td>1495</td>\n",
       "      <td>4486</td>\n",
       "      <td>3405.57</td>\n",
       "    </tr>\n",
       "    <tr>\n",
       "      <th>Oct</th>\n",
       "      <td>123511</td>\n",
       "      <td>627</td>\n",
       "      <td>5511</td>\n",
       "      <td>3984.23</td>\n",
       "    </tr>\n",
       "    <tr>\n",
       "      <th>Sep</th>\n",
       "      <td>127418</td>\n",
       "      <td>1842</td>\n",
       "      <td>5423</td>\n",
       "      <td>4247.27</td>\n",
       "    </tr>\n",
       "    <tr>\n",
       "      <th rowspan=\"12\" valign=\"top\">2012</th>\n",
       "      <th>Apr</th>\n",
       "      <td>174224</td>\n",
       "      <td>1027</td>\n",
       "      <td>7460</td>\n",
       "      <td>5807.47</td>\n",
       "    </tr>\n",
       "    <tr>\n",
       "      <th>Aug</th>\n",
       "      <td>214503</td>\n",
       "      <td>4549</td>\n",
       "      <td>7865</td>\n",
       "      <td>6919.45</td>\n",
       "    </tr>\n",
       "    <tr>\n",
       "      <th>Dec</th>\n",
       "      <td>123713</td>\n",
       "      <td>441</td>\n",
       "      <td>6606</td>\n",
       "      <td>3990.74</td>\n",
       "    </tr>\n",
       "    <tr>\n",
       "      <th>Feb</th>\n",
       "      <td>103137</td>\n",
       "      <td>1529</td>\n",
       "      <td>5062</td>\n",
       "      <td>3556.45</td>\n",
       "    </tr>\n",
       "    <tr>\n",
       "      <th>Jan</th>\n",
       "      <td>96744</td>\n",
       "      <td>1301</td>\n",
       "      <td>4521</td>\n",
       "      <td>3120.77</td>\n",
       "    </tr>\n",
       "    <tr>\n",
       "      <th>Jul</th>\n",
       "      <td>203607</td>\n",
       "      <td>4459</td>\n",
       "      <td>8173</td>\n",
       "      <td>6567.97</td>\n",
       "    </tr>\n",
       "    <tr>\n",
       "      <th>Jun</th>\n",
       "      <td>202830</td>\n",
       "      <td>4127</td>\n",
       "      <td>8120</td>\n",
       "      <td>6761.00</td>\n",
       "    </tr>\n",
       "    <tr>\n",
       "      <th>Mar</th>\n",
       "      <td>164875</td>\n",
       "      <td>3194</td>\n",
       "      <td>8362</td>\n",
       "      <td>5318.55</td>\n",
       "    </tr>\n",
       "    <tr>\n",
       "      <th>May</th>\n",
       "      <td>195865</td>\n",
       "      <td>2843</td>\n",
       "      <td>8294</td>\n",
       "      <td>6318.23</td>\n",
       "    </tr>\n",
       "    <tr>\n",
       "      <th>Nov</th>\n",
       "      <td>152664</td>\n",
       "      <td>2277</td>\n",
       "      <td>6852</td>\n",
       "      <td>5088.80</td>\n",
       "    </tr>\n",
       "    <tr>\n",
       "      <th>Oct</th>\n",
       "      <td>198841</td>\n",
       "      <td>22</td>\n",
       "      <td>8156</td>\n",
       "      <td>6414.23</td>\n",
       "    </tr>\n",
       "    <tr>\n",
       "      <th>Sep</th>\n",
       "      <td>218573</td>\n",
       "      <td>4073</td>\n",
       "      <td>8714</td>\n",
       "      <td>7285.77</td>\n",
       "    </tr>\n",
       "  </tbody>\n",
       "</table>\n",
       "</div>"
      ],
      "text/plain": [
       "           total_count                     \n",
       "                   sum   min   max     mean\n",
       "year month                                 \n",
       "2011 Apr         94870   795  5312  3162.33\n",
       "     Aug        136691  1115  5895  4409.39\n",
       "     Dec         87323   705  3940  2816.87\n",
       "     Feb         48215  1005  2927  1721.96\n",
       "     Jan         38189   431  1985  1231.90\n",
       "     Jul        141341  3285  6043  4559.39\n",
       "     Jun        143512  3767  5515  4783.73\n",
       "     Mar         64045   605  3239  2065.97\n",
       "     May        135821  2633  5805  4381.32\n",
       "     Nov        102167  1495  4486  3405.57\n",
       "     Oct        123511   627  5511  3984.23\n",
       "     Sep        127418  1842  5423  4247.27\n",
       "2012 Apr        174224  1027  7460  5807.47\n",
       "     Aug        214503  4549  7865  6919.45\n",
       "     Dec        123713   441  6606  3990.74\n",
       "     Feb        103137  1529  5062  3556.45\n",
       "     Jan         96744  1301  4521  3120.77\n",
       "     Jul        203607  4459  8173  6567.97\n",
       "     Jun        202830  4127  8120  6761.00\n",
       "     Mar        164875  3194  8362  5318.55\n",
       "     May        195865  2843  8294  6318.23\n",
       "     Nov        152664  2277  6852  5088.80\n",
       "     Oct        198841    22  8156  6414.23\n",
       "     Sep        218573  4073  8714  7285.77"
      ]
     },
     "execution_count": 26,
     "metadata": {},
     "output_type": "execute_result"
    }
   ],
   "source": [
    "day_df.groupby(by=['year','month']).agg({\n",
    "    'total_count': ['sum','min','max','mean']\n",
    "}).round(2)"
   ]
  },
  {
   "cell_type": "markdown",
   "metadata": {
    "id": "uH4Omyesen_r"
   },
   "source": [
    "**Rangkuman**\n",
    "\n",
    "1. Terdapat perbedaan yang cukup signifikan dari jumlah penyewa di tahun 2011 dan 2012\n",
    "\n",
    "2. Jumlah penyewaan terbanyak di 2011 adalah : `143512 di bulan Juni` dan yang terkecil adalah `38189 di bulan januari`\n",
    "\n",
    "3. Jumlah Penyewaan terbesar di 2012 adalah : `218573 di bulan september`dan yang terkecil adalah `96744 di bulan januari`"
   ]
  },
  {
   "cell_type": "markdown",
   "metadata": {
    "id": "PpsevUw7mSix"
   },
   "source": [
    "**B. Mengetahui total Penyewaan terbanyak dan tersedikit berdasarkan Bulan**"
   ]
  },
  {
   "cell_type": "code",
   "execution_count": 27,
   "metadata": {
    "executionInfo": {
     "elapsed": 19,
     "status": "ok",
     "timestamp": 1727947232829,
     "user": {
      "displayName": "Steven Gramanuel",
      "userId": "10634889113243061284"
     },
     "user_tz": -420
    },
    "id": "siGPaD55iBxM"
   },
   "outputs": [],
   "source": [
    "day_Perbulan = day_df.groupby(by=['month']).agg({\n",
    "    'total_count': ['sum','min','max','mean']\n",
    "}).round(2).sort_values(by=('total_count','sum'), ascending=False)\n",
    "day_Perbulan = day_Perbulan['total_count']\n",
    "day_Perbulan = pd.DataFrame(day_Perbulan)\n"
   ]
  },
  {
   "cell_type": "code",
   "execution_count": 28,
   "metadata": {
    "colab": {
     "base_uri": "https://localhost:8080/",
     "height": 457
    },
    "executionInfo": {
     "elapsed": 18,
     "status": "ok",
     "timestamp": 1727947232829,
     "user": {
      "displayName": "Steven Gramanuel",
      "userId": "10634889113243061284"
     },
     "user_tz": -420
    },
    "id": "daQoy3qFlzpu",
    "outputId": "979a05b3-22f3-4e45-9410-b75f7e75dcdd"
   },
   "outputs": [
    {
     "data": {
      "text/html": [
       "<div>\n",
       "<style scoped>\n",
       "    .dataframe tbody tr th:only-of-type {\n",
       "        vertical-align: middle;\n",
       "    }\n",
       "\n",
       "    .dataframe tbody tr th {\n",
       "        vertical-align: top;\n",
       "    }\n",
       "\n",
       "    .dataframe thead th {\n",
       "        text-align: right;\n",
       "    }\n",
       "</style>\n",
       "<table border=\"1\" class=\"dataframe\">\n",
       "  <thead>\n",
       "    <tr style=\"text-align: right;\">\n",
       "      <th></th>\n",
       "      <th>sum</th>\n",
       "      <th>min</th>\n",
       "      <th>max</th>\n",
       "      <th>mean</th>\n",
       "    </tr>\n",
       "    <tr>\n",
       "      <th>month</th>\n",
       "      <th></th>\n",
       "      <th></th>\n",
       "      <th></th>\n",
       "      <th></th>\n",
       "    </tr>\n",
       "  </thead>\n",
       "  <tbody>\n",
       "    <tr>\n",
       "      <th>Aug</th>\n",
       "      <td>351194</td>\n",
       "      <td>1115</td>\n",
       "      <td>7865</td>\n",
       "      <td>5664.42</td>\n",
       "    </tr>\n",
       "    <tr>\n",
       "      <th>Jun</th>\n",
       "      <td>346342</td>\n",
       "      <td>3767</td>\n",
       "      <td>8120</td>\n",
       "      <td>5772.37</td>\n",
       "    </tr>\n",
       "    <tr>\n",
       "      <th>Sep</th>\n",
       "      <td>345991</td>\n",
       "      <td>1842</td>\n",
       "      <td>8714</td>\n",
       "      <td>5766.52</td>\n",
       "    </tr>\n",
       "    <tr>\n",
       "      <th>Jul</th>\n",
       "      <td>344948</td>\n",
       "      <td>3285</td>\n",
       "      <td>8173</td>\n",
       "      <td>5563.68</td>\n",
       "    </tr>\n",
       "    <tr>\n",
       "      <th>May</th>\n",
       "      <td>331686</td>\n",
       "      <td>2633</td>\n",
       "      <td>8294</td>\n",
       "      <td>5349.77</td>\n",
       "    </tr>\n",
       "    <tr>\n",
       "      <th>Oct</th>\n",
       "      <td>322352</td>\n",
       "      <td>22</td>\n",
       "      <td>8156</td>\n",
       "      <td>5199.23</td>\n",
       "    </tr>\n",
       "    <tr>\n",
       "      <th>Apr</th>\n",
       "      <td>269094</td>\n",
       "      <td>795</td>\n",
       "      <td>7460</td>\n",
       "      <td>4484.90</td>\n",
       "    </tr>\n",
       "    <tr>\n",
       "      <th>Nov</th>\n",
       "      <td>254831</td>\n",
       "      <td>1495</td>\n",
       "      <td>6852</td>\n",
       "      <td>4247.18</td>\n",
       "    </tr>\n",
       "    <tr>\n",
       "      <th>Mar</th>\n",
       "      <td>228920</td>\n",
       "      <td>605</td>\n",
       "      <td>8362</td>\n",
       "      <td>3692.26</td>\n",
       "    </tr>\n",
       "    <tr>\n",
       "      <th>Dec</th>\n",
       "      <td>211036</td>\n",
       "      <td>441</td>\n",
       "      <td>6606</td>\n",
       "      <td>3403.81</td>\n",
       "    </tr>\n",
       "    <tr>\n",
       "      <th>Feb</th>\n",
       "      <td>151352</td>\n",
       "      <td>1005</td>\n",
       "      <td>5062</td>\n",
       "      <td>2655.30</td>\n",
       "    </tr>\n",
       "    <tr>\n",
       "      <th>Jan</th>\n",
       "      <td>134933</td>\n",
       "      <td>431</td>\n",
       "      <td>4521</td>\n",
       "      <td>2176.34</td>\n",
       "    </tr>\n",
       "  </tbody>\n",
       "</table>\n",
       "</div>"
      ],
      "text/plain": [
       "          sum   min   max     mean\n",
       "month                             \n",
       "Aug    351194  1115  7865  5664.42\n",
       "Jun    346342  3767  8120  5772.37\n",
       "Sep    345991  1842  8714  5766.52\n",
       "Jul    344948  3285  8173  5563.68\n",
       "May    331686  2633  8294  5349.77\n",
       "Oct    322352    22  8156  5199.23\n",
       "Apr    269094   795  7460  4484.90\n",
       "Nov    254831  1495  6852  4247.18\n",
       "Mar    228920   605  8362  3692.26\n",
       "Dec    211036   441  6606  3403.81\n",
       "Feb    151352  1005  5062  2655.30\n",
       "Jan    134933   431  4521  2176.34"
      ]
     },
     "execution_count": 28,
     "metadata": {},
     "output_type": "execute_result"
    }
   ],
   "source": [
    "day_Perbulan"
   ]
  },
  {
   "cell_type": "markdown",
   "metadata": {
    "id": "0y_UshyHiQ2z"
   },
   "source": [
    "**Rangkuman**\n",
    "\n",
    "Sedangkan Jika di kelompokan berdasarkan bulan:\n",
    "\n",
    " 1. total penyewaan terbanyak adalah 351194 di bulan agustus\n",
    " 2. total penyewaan paling sedikit adalah 134933 di bulan januari"
   ]
  },
  {
   "cell_type": "markdown",
   "metadata": {
    "id": "DrzbIdFrfjuR"
   },
   "source": [
    "**C. Mengetahui Jumlah Penyewa baik Casual maupun Registered tiap bulannya di kurun waktu 2 Tahun terakhir.**\n"
   ]
  },
  {
   "cell_type": "code",
   "execution_count": 29,
   "metadata": {
    "colab": {
     "base_uri": "https://localhost:8080/",
     "height": 833
    },
    "executionInfo": {
     "elapsed": 18,
     "status": "ok",
     "timestamp": 1727947232829,
     "user": {
      "displayName": "Steven Gramanuel",
      "userId": "10634889113243061284"
     },
     "user_tz": -420
    },
    "id": "7vc-CPX70UN2",
    "outputId": "861190b7-69e5-4e22-f869-7a2b486b80de"
   },
   "outputs": [
    {
     "data": {
      "text/html": [
       "<div>\n",
       "<style scoped>\n",
       "    .dataframe tbody tr th:only-of-type {\n",
       "        vertical-align: middle;\n",
       "    }\n",
       "\n",
       "    .dataframe tbody tr th {\n",
       "        vertical-align: top;\n",
       "    }\n",
       "\n",
       "    .dataframe thead th {\n",
       "        text-align: right;\n",
       "    }\n",
       "</style>\n",
       "<table border=\"1\" class=\"dataframe\">\n",
       "  <thead>\n",
       "    <tr style=\"text-align: right;\">\n",
       "      <th></th>\n",
       "      <th></th>\n",
       "      <th>casual</th>\n",
       "      <th>registered</th>\n",
       "    </tr>\n",
       "    <tr>\n",
       "      <th>year</th>\n",
       "      <th>month</th>\n",
       "      <th></th>\n",
       "      <th></th>\n",
       "    </tr>\n",
       "  </thead>\n",
       "  <tbody>\n",
       "    <tr>\n",
       "      <th rowspan=\"12\" valign=\"top\">2011</th>\n",
       "      <th>Apr</th>\n",
       "      <td>22346</td>\n",
       "      <td>72524</td>\n",
       "    </tr>\n",
       "    <tr>\n",
       "      <th>Aug</th>\n",
       "      <td>28842</td>\n",
       "      <td>107849</td>\n",
       "    </tr>\n",
       "    <tr>\n",
       "      <th>Dec</th>\n",
       "      <td>8448</td>\n",
       "      <td>78875</td>\n",
       "    </tr>\n",
       "    <tr>\n",
       "      <th>Feb</th>\n",
       "      <td>6242</td>\n",
       "      <td>41973</td>\n",
       "    </tr>\n",
       "    <tr>\n",
       "      <th>Jan</th>\n",
       "      <td>3073</td>\n",
       "      <td>35116</td>\n",
       "    </tr>\n",
       "    <tr>\n",
       "      <th>Jul</th>\n",
       "      <td>36452</td>\n",
       "      <td>104889</td>\n",
       "    </tr>\n",
       "    <tr>\n",
       "      <th>Jun</th>\n",
       "      <td>30612</td>\n",
       "      <td>112900</td>\n",
       "    </tr>\n",
       "    <tr>\n",
       "      <th>Mar</th>\n",
       "      <td>12826</td>\n",
       "      <td>51219</td>\n",
       "    </tr>\n",
       "    <tr>\n",
       "      <th>May</th>\n",
       "      <td>31050</td>\n",
       "      <td>104771</td>\n",
       "    </tr>\n",
       "    <tr>\n",
       "      <th>Nov</th>\n",
       "      <td>15594</td>\n",
       "      <td>86573</td>\n",
       "    </tr>\n",
       "    <tr>\n",
       "      <th>Oct</th>\n",
       "      <td>25222</td>\n",
       "      <td>98289</td>\n",
       "    </tr>\n",
       "    <tr>\n",
       "      <th>Sep</th>\n",
       "      <td>26545</td>\n",
       "      <td>100873</td>\n",
       "    </tr>\n",
       "    <tr>\n",
       "      <th rowspan=\"12\" valign=\"top\">2012</th>\n",
       "      <th>Apr</th>\n",
       "      <td>38456</td>\n",
       "      <td>135768</td>\n",
       "    </tr>\n",
       "    <tr>\n",
       "      <th>Aug</th>\n",
       "      <td>43197</td>\n",
       "      <td>171306</td>\n",
       "    </tr>\n",
       "    <tr>\n",
       "      <th>Dec</th>\n",
       "      <td>13245</td>\n",
       "      <td>110468</td>\n",
       "    </tr>\n",
       "    <tr>\n",
       "      <th>Feb</th>\n",
       "      <td>8721</td>\n",
       "      <td>94416</td>\n",
       "    </tr>\n",
       "    <tr>\n",
       "      <th>Jan</th>\n",
       "      <td>8969</td>\n",
       "      <td>87775</td>\n",
       "    </tr>\n",
       "    <tr>\n",
       "      <th>Jul</th>\n",
       "      <td>41705</td>\n",
       "      <td>161902</td>\n",
       "    </tr>\n",
       "    <tr>\n",
       "      <th>Jun</th>\n",
       "      <td>43294</td>\n",
       "      <td>159536</td>\n",
       "    </tr>\n",
       "    <tr>\n",
       "      <th>Mar</th>\n",
       "      <td>31618</td>\n",
       "      <td>133257</td>\n",
       "    </tr>\n",
       "    <tr>\n",
       "      <th>May</th>\n",
       "      <td>44235</td>\n",
       "      <td>151630</td>\n",
       "    </tr>\n",
       "    <tr>\n",
       "      <th>Nov</th>\n",
       "      <td>21009</td>\n",
       "      <td>131655</td>\n",
       "    </tr>\n",
       "    <tr>\n",
       "      <th>Oct</th>\n",
       "      <td>34538</td>\n",
       "      <td>164303</td>\n",
       "    </tr>\n",
       "    <tr>\n",
       "      <th>Sep</th>\n",
       "      <td>43778</td>\n",
       "      <td>174795</td>\n",
       "    </tr>\n",
       "  </tbody>\n",
       "</table>\n",
       "</div>"
      ],
      "text/plain": [
       "            casual  registered\n",
       "year month                    \n",
       "2011 Apr     22346       72524\n",
       "     Aug     28842      107849\n",
       "     Dec      8448       78875\n",
       "     Feb      6242       41973\n",
       "     Jan      3073       35116\n",
       "     Jul     36452      104889\n",
       "     Jun     30612      112900\n",
       "     Mar     12826       51219\n",
       "     May     31050      104771\n",
       "     Nov     15594       86573\n",
       "     Oct     25222       98289\n",
       "     Sep     26545      100873\n",
       "2012 Apr     38456      135768\n",
       "     Aug     43197      171306\n",
       "     Dec     13245      110468\n",
       "     Feb      8721       94416\n",
       "     Jan      8969       87775\n",
       "     Jul     41705      161902\n",
       "     Jun     43294      159536\n",
       "     Mar     31618      133257\n",
       "     May     44235      151630\n",
       "     Nov     21009      131655\n",
       "     Oct     34538      164303\n",
       "     Sep     43778      174795"
      ]
     },
     "execution_count": 29,
     "metadata": {},
     "output_type": "execute_result"
    }
   ],
   "source": [
    "\n",
    "casual_registered_by_month = day_df.groupby(['year', 'month'])[['casual', 'registered']].sum()\n",
    "\n",
    "casual_registered_by_month\n"
   ]
  },
  {
   "cell_type": "markdown",
   "metadata": {
    "id": "K35-9NVYfjuR"
   },
   "source": [
    "**Rangkuman**\n",
    "\n",
    "2011 : Penyewa terbanyak ada di bulan juni dengan Casual sebanyak 30612 dan Registered sebanayak 112900 Penyewa\n",
    "\n",
    "2012 : Penyewa terbanyak ada di bulan September dengan Casual sebanyak 43778 dan Registered sebanayak 174795 Penyewa"
   ]
  },
  {
   "cell_type": "markdown",
   "metadata": {
    "id": "_TbV_9w1nDhL"
   },
   "source": [
    "**D. Mengetahui Jumlah total penyewaan sepeda Berdasarkan Musim**\n"
   ]
  },
  {
   "cell_type": "code",
   "execution_count": 30,
   "metadata": {
    "colab": {
     "base_uri": "https://localhost:8080/",
     "height": 238
    },
    "executionInfo": {
     "elapsed": 560,
     "status": "ok",
     "timestamp": 1727947233373,
     "user": {
      "displayName": "Steven Gramanuel",
      "userId": "10634889113243061284"
     },
     "user_tz": -420
    },
    "id": "VsZjPXoInCjP",
    "outputId": "b133ad4d-26fb-4ef5-d45a-9179ed2c0da2"
   },
   "outputs": [
    {
     "data": {
      "text/html": [
       "<div>\n",
       "<style scoped>\n",
       "    .dataframe tbody tr th:only-of-type {\n",
       "        vertical-align: middle;\n",
       "    }\n",
       "\n",
       "    .dataframe tbody tr th {\n",
       "        vertical-align: top;\n",
       "    }\n",
       "\n",
       "    .dataframe thead tr th {\n",
       "        text-align: left;\n",
       "    }\n",
       "\n",
       "    .dataframe thead tr:last-of-type th {\n",
       "        text-align: right;\n",
       "    }\n",
       "</style>\n",
       "<table border=\"1\" class=\"dataframe\">\n",
       "  <thead>\n",
       "    <tr>\n",
       "      <th></th>\n",
       "      <th colspan=\"4\" halign=\"left\">total_count</th>\n",
       "    </tr>\n",
       "    <tr>\n",
       "      <th></th>\n",
       "      <th>sum</th>\n",
       "      <th>min</th>\n",
       "      <th>max</th>\n",
       "      <th>mean</th>\n",
       "    </tr>\n",
       "    <tr>\n",
       "      <th>season</th>\n",
       "      <th></th>\n",
       "      <th></th>\n",
       "      <th></th>\n",
       "      <th></th>\n",
       "    </tr>\n",
       "  </thead>\n",
       "  <tbody>\n",
       "    <tr>\n",
       "      <th>autumn</th>\n",
       "      <td>1061129</td>\n",
       "      <td>1115</td>\n",
       "      <td>8714</td>\n",
       "      <td>5644.30</td>\n",
       "    </tr>\n",
       "    <tr>\n",
       "      <th>summer</th>\n",
       "      <td>918589</td>\n",
       "      <td>795</td>\n",
       "      <td>8362</td>\n",
       "      <td>4992.33</td>\n",
       "    </tr>\n",
       "    <tr>\n",
       "      <th>winter</th>\n",
       "      <td>841613</td>\n",
       "      <td>22</td>\n",
       "      <td>8555</td>\n",
       "      <td>4728.16</td>\n",
       "    </tr>\n",
       "    <tr>\n",
       "      <th>spring</th>\n",
       "      <td>471348</td>\n",
       "      <td>431</td>\n",
       "      <td>7836</td>\n",
       "      <td>2604.13</td>\n",
       "    </tr>\n",
       "  </tbody>\n",
       "</table>\n",
       "</div>"
      ],
      "text/plain": [
       "       total_count                     \n",
       "               sum   min   max     mean\n",
       "season                                 \n",
       "autumn     1061129  1115  8714  5644.30\n",
       "summer      918589   795  8362  4992.33\n",
       "winter      841613    22  8555  4728.16\n",
       "spring      471348   431  7836  2604.13"
      ]
     },
     "execution_count": 30,
     "metadata": {},
     "output_type": "execute_result"
    }
   ],
   "source": [
    "day_df.groupby(by=['season']).agg({\n",
    "    'total_count': ['sum','min','max','mean']\n",
    "}).round(2).sort_values(by=('total_count','sum'), ascending=False)\n"
   ]
  },
  {
   "cell_type": "markdown",
   "metadata": {
    "id": "k7yV0-P6rp6s"
   },
   "source": [
    "**Rangkuman**\n",
    "\n",
    "Sedangkan Jika di kelompokan berdasarkan bulan:\n",
    "\n",
    " 1. total penyewaan terbanyak adalah 1061129 di Musim Autumn\n",
    " 2. total penyewaan paling sedikit adalah 471348 Musim Spring"
   ]
  },
  {
   "cell_type": "markdown",
   "metadata": {
    "id": "QyD7F65ssMSy"
   },
   "source": [
    "**E. Mengetahui Jumlah total penyewaan sepeda Berdasarkan Cuaca**\n",
    "\n",
    "\n"
   ]
  },
  {
   "cell_type": "code",
   "execution_count": 31,
   "metadata": {
    "colab": {
     "base_uri": "https://localhost:8080/",
     "height": 206
    },
    "executionInfo": {
     "elapsed": 22,
     "status": "ok",
     "timestamp": 1727947233373,
     "user": {
      "displayName": "Steven Gramanuel",
      "userId": "10634889113243061284"
     },
     "user_tz": -420
    },
    "id": "mfCn_uTrsK0Q",
    "outputId": "b1dda449-5142-4183-e262-612ecc1b927c"
   },
   "outputs": [
    {
     "data": {
      "text/html": [
       "<div>\n",
       "<style scoped>\n",
       "    .dataframe tbody tr th:only-of-type {\n",
       "        vertical-align: middle;\n",
       "    }\n",
       "\n",
       "    .dataframe tbody tr th {\n",
       "        vertical-align: top;\n",
       "    }\n",
       "\n",
       "    .dataframe thead tr th {\n",
       "        text-align: left;\n",
       "    }\n",
       "\n",
       "    .dataframe thead tr:last-of-type th {\n",
       "        text-align: right;\n",
       "    }\n",
       "</style>\n",
       "<table border=\"1\" class=\"dataframe\">\n",
       "  <thead>\n",
       "    <tr>\n",
       "      <th></th>\n",
       "      <th colspan=\"4\" halign=\"left\">total_count</th>\n",
       "    </tr>\n",
       "    <tr>\n",
       "      <th></th>\n",
       "      <th>sum</th>\n",
       "      <th>min</th>\n",
       "      <th>max</th>\n",
       "      <th>mean</th>\n",
       "    </tr>\n",
       "    <tr>\n",
       "      <th>weather_condition</th>\n",
       "      <th></th>\n",
       "      <th></th>\n",
       "      <th></th>\n",
       "      <th></th>\n",
       "    </tr>\n",
       "  </thead>\n",
       "  <tbody>\n",
       "    <tr>\n",
       "      <th>Clear</th>\n",
       "      <td>2257952</td>\n",
       "      <td>431</td>\n",
       "      <td>8714</td>\n",
       "      <td>4876.79</td>\n",
       "    </tr>\n",
       "    <tr>\n",
       "      <th>Mist</th>\n",
       "      <td>996858</td>\n",
       "      <td>605</td>\n",
       "      <td>8362</td>\n",
       "      <td>4035.86</td>\n",
       "    </tr>\n",
       "    <tr>\n",
       "      <th>Light Rain</th>\n",
       "      <td>37869</td>\n",
       "      <td>22</td>\n",
       "      <td>4639</td>\n",
       "      <td>1803.29</td>\n",
       "    </tr>\n",
       "  </tbody>\n",
       "</table>\n",
       "</div>"
      ],
      "text/plain": [
       "                  total_count                    \n",
       "                          sum  min   max     mean\n",
       "weather_condition                                \n",
       "Clear                 2257952  431  8714  4876.79\n",
       "Mist                   996858  605  8362  4035.86\n",
       "Light Rain              37869   22  4639  1803.29"
      ]
     },
     "execution_count": 31,
     "metadata": {},
     "output_type": "execute_result"
    }
   ],
   "source": [
    "day_df.groupby(by=['weather_condition']).agg({\n",
    "    'total_count': ['sum','min','max','mean']\n",
    "}).round(2).sort_values(by=('total_count','sum'), ascending=False)"
   ]
  },
  {
   "cell_type": "markdown",
   "metadata": {
    "id": "VGqmJRC5xq3_"
   },
   "source": [
    "**Rangkuman**\n",
    "\n",
    "1.Total Penyewaan terbanyak berdasarkan cuaca adalah : Clear 2257952\n",
    "\n",
    "2.Total Penyewaan paling sedikit berdasarkan cuaca adalah : Ligth rain 37869"
   ]
  },
  {
   "cell_type": "markdown",
   "metadata": {
    "id": "riILSZU9wnX5"
   },
   "source": [
    "**F. Mengetahui Jumlah total penyewaan sepeda Berdasarkan Musim dan Cuaca**\n",
    "\n"
   ]
  },
  {
   "cell_type": "code",
   "execution_count": 32,
   "metadata": {
    "colab": {
     "base_uri": "https://localhost:8080/",
     "height": 457
    },
    "executionInfo": {
     "elapsed": 18,
     "status": "ok",
     "timestamp": 1727947233373,
     "user": {
      "displayName": "Steven Gramanuel",
      "userId": "10634889113243061284"
     },
     "user_tz": -420
    },
    "id": "jeldA-70sSMn",
    "outputId": "f0565b34-e1c0-46b3-e71e-83c600e032c9"
   },
   "outputs": [
    {
     "data": {
      "text/html": [
       "<div>\n",
       "<style scoped>\n",
       "    .dataframe tbody tr th:only-of-type {\n",
       "        vertical-align: middle;\n",
       "    }\n",
       "\n",
       "    .dataframe tbody tr th {\n",
       "        vertical-align: top;\n",
       "    }\n",
       "\n",
       "    .dataframe thead th {\n",
       "        text-align: right;\n",
       "    }\n",
       "</style>\n",
       "<table border=\"1\" class=\"dataframe\">\n",
       "  <thead>\n",
       "    <tr style=\"text-align: right;\">\n",
       "      <th></th>\n",
       "      <th></th>\n",
       "      <th>sum</th>\n",
       "      <th>mean</th>\n",
       "    </tr>\n",
       "    <tr>\n",
       "      <th>weather_condition</th>\n",
       "      <th>season</th>\n",
       "      <th></th>\n",
       "      <th></th>\n",
       "    </tr>\n",
       "  </thead>\n",
       "  <tbody>\n",
       "    <tr>\n",
       "      <th rowspan=\"4\" valign=\"top\">Clear</th>\n",
       "      <th>autumn</th>\n",
       "      <td>799443</td>\n",
       "      <td>5878.26</td>\n",
       "    </tr>\n",
       "    <tr>\n",
       "      <th>spring</th>\n",
       "      <td>312036</td>\n",
       "      <td>2811.14</td>\n",
       "    </tr>\n",
       "    <tr>\n",
       "      <th>summer</th>\n",
       "      <td>626986</td>\n",
       "      <td>5548.55</td>\n",
       "    </tr>\n",
       "    <tr>\n",
       "      <th>winter</th>\n",
       "      <td>519487</td>\n",
       "      <td>5043.56</td>\n",
       "    </tr>\n",
       "    <tr>\n",
       "      <th rowspan=\"4\" valign=\"top\">Light Rain</th>\n",
       "      <th>autumn</th>\n",
       "      <td>11007</td>\n",
       "      <td>2751.75</td>\n",
       "    </tr>\n",
       "    <tr>\n",
       "      <th>spring</th>\n",
       "      <td>3739</td>\n",
       "      <td>934.75</td>\n",
       "    </tr>\n",
       "    <tr>\n",
       "      <th>summer</th>\n",
       "      <td>3507</td>\n",
       "      <td>1169.00</td>\n",
       "    </tr>\n",
       "    <tr>\n",
       "      <th>winter</th>\n",
       "      <td>19616</td>\n",
       "      <td>1961.60</td>\n",
       "    </tr>\n",
       "    <tr>\n",
       "      <th rowspan=\"4\" valign=\"top\">Mist</th>\n",
       "      <th>autumn</th>\n",
       "      <td>250679</td>\n",
       "      <td>5222.48</td>\n",
       "    </tr>\n",
       "    <tr>\n",
       "      <th>spring</th>\n",
       "      <td>155573</td>\n",
       "      <td>2357.17</td>\n",
       "    </tr>\n",
       "    <tr>\n",
       "      <th>summer</th>\n",
       "      <td>288096</td>\n",
       "      <td>4236.71</td>\n",
       "    </tr>\n",
       "    <tr>\n",
       "      <th>winter</th>\n",
       "      <td>302510</td>\n",
       "      <td>4654.00</td>\n",
       "    </tr>\n",
       "  </tbody>\n",
       "</table>\n",
       "</div>"
      ],
      "text/plain": [
       "                             sum     mean\n",
       "weather_condition season                 \n",
       "Clear             autumn  799443  5878.26\n",
       "                  spring  312036  2811.14\n",
       "                  summer  626986  5548.55\n",
       "                  winter  519487  5043.56\n",
       "Light Rain        autumn   11007  2751.75\n",
       "                  spring    3739   934.75\n",
       "                  summer    3507  1169.00\n",
       "                  winter   19616  1961.60\n",
       "Mist              autumn  250679  5222.48\n",
       "                  spring  155573  2357.17\n",
       "                  summer  288096  4236.71\n",
       "                  winter  302510  4654.00"
      ]
     },
     "execution_count": 32,
     "metadata": {},
     "output_type": "execute_result"
    }
   ],
   "source": [
    "day_df.groupby(['weather_condition', 'season'])['total_count'].agg(['sum', 'mean']).round(2)\n"
   ]
  },
  {
   "cell_type": "markdown",
   "metadata": {
    "id": "D-whCc7fwtp2"
   },
   "source": [
    "Dapat dilihat di tabel di atas bahwa :\n",
    "\n",
    "1. total penyewaan terbesar berdasarkan kombinasi musim dan cuaca adalah : Autumn-Clear dengan jumlah 799443  \n",
    "2. total penyewaan terkecil berdasarkan kombinasi musim dan cuaca adalah : Summer-ligth rain dengan jumlah 3507  "
   ]
  },
  {
   "cell_type": "markdown",
   "metadata": {
    "id": "xysUUbjRfjuW"
   },
   "source": [
    "**H. Mengetahui hari apa yang merupakan hari dengan Penyewa terbanyak dan tersedikit**"
   ]
  },
  {
   "cell_type": "code",
   "execution_count": 33,
   "metadata": {
    "colab": {
     "base_uri": "https://localhost:8080/",
     "height": 332
    },
    "executionInfo": {
     "elapsed": 17,
     "status": "ok",
     "timestamp": 1727947233373,
     "user": {
      "displayName": "Steven Gramanuel",
      "userId": "10634889113243061284"
     },
     "user_tz": -420
    },
    "id": "69aE4vR75BeI",
    "outputId": "df07246e-1008-4bd9-9a23-abe609766848"
   },
   "outputs": [
    {
     "data": {
      "text/html": [
       "<div>\n",
       "<style scoped>\n",
       "    .dataframe tbody tr th:only-of-type {\n",
       "        vertical-align: middle;\n",
       "    }\n",
       "\n",
       "    .dataframe tbody tr th {\n",
       "        vertical-align: top;\n",
       "    }\n",
       "\n",
       "    .dataframe thead tr th {\n",
       "        text-align: left;\n",
       "    }\n",
       "\n",
       "    .dataframe thead tr:last-of-type th {\n",
       "        text-align: right;\n",
       "    }\n",
       "</style>\n",
       "<table border=\"1\" class=\"dataframe\">\n",
       "  <thead>\n",
       "    <tr>\n",
       "      <th></th>\n",
       "      <th colspan=\"3\" halign=\"left\">total_count</th>\n",
       "    </tr>\n",
       "    <tr>\n",
       "      <th></th>\n",
       "      <th>sum</th>\n",
       "      <th>max</th>\n",
       "      <th>min</th>\n",
       "    </tr>\n",
       "    <tr>\n",
       "      <th>weekday</th>\n",
       "      <th></th>\n",
       "      <th></th>\n",
       "      <th></th>\n",
       "    </tr>\n",
       "  </thead>\n",
       "  <tbody>\n",
       "    <tr>\n",
       "      <th>0</th>\n",
       "      <td>444027</td>\n",
       "      <td>8227</td>\n",
       "      <td>605</td>\n",
       "    </tr>\n",
       "    <tr>\n",
       "      <th>1</th>\n",
       "      <td>455503</td>\n",
       "      <td>7525</td>\n",
       "      <td>22</td>\n",
       "    </tr>\n",
       "    <tr>\n",
       "      <th>2</th>\n",
       "      <td>469109</td>\n",
       "      <td>7767</td>\n",
       "      <td>683</td>\n",
       "    </tr>\n",
       "    <tr>\n",
       "      <th>3</th>\n",
       "      <td>473048</td>\n",
       "      <td>8173</td>\n",
       "      <td>441</td>\n",
       "    </tr>\n",
       "    <tr>\n",
       "      <th>4</th>\n",
       "      <td>485395</td>\n",
       "      <td>7804</td>\n",
       "      <td>431</td>\n",
       "    </tr>\n",
       "    <tr>\n",
       "      <th>5</th>\n",
       "      <td>487790</td>\n",
       "      <td>8362</td>\n",
       "      <td>1167</td>\n",
       "    </tr>\n",
       "    <tr>\n",
       "      <th>6</th>\n",
       "      <td>477807</td>\n",
       "      <td>8714</td>\n",
       "      <td>627</td>\n",
       "    </tr>\n",
       "  </tbody>\n",
       "</table>\n",
       "</div>"
      ],
      "text/plain": [
       "        total_count            \n",
       "                sum   max   min\n",
       "weekday                        \n",
       "0            444027  8227   605\n",
       "1            455503  7525    22\n",
       "2            469109  7767   683\n",
       "3            473048  8173   441\n",
       "4            485395  7804   431\n",
       "5            487790  8362  1167\n",
       "6            477807  8714   627"
      ]
     },
     "execution_count": 33,
     "metadata": {},
     "output_type": "execute_result"
    }
   ],
   "source": [
    "\n",
    "day_df.groupby(by=['weekday']).agg({\n",
    "    'total_count': ['sum', 'max', 'min']\n",
    "}).round(2)\n"
   ]
  },
  {
   "cell_type": "markdown",
   "metadata": {
    "id": "1plt7m-YfjuW"
   },
   "source": [
    "**Rangkuman**\n",
    "\n",
    "1. hari dengan penyewa terbanyak adalah Jumat (5) dengan total penyewa sebanyak 487790\n",
    "2. hari dengan penyewa paling sedikit adalah Minggu (0) dengan total penyewa sebanyak 444027"
   ]
  },
  {
   "cell_type": "markdown",
   "metadata": {
    "id": "mgN-nXerfjuW"
   },
   "source": [
    "**I. Mengetahui kapan waktu paling banyak terjadi penyewaan Sepeda (peak hour)**"
   ]
  },
  {
   "cell_type": "code",
   "execution_count": 34,
   "metadata": {
    "colab": {
     "base_uri": "https://localhost:8080/",
     "height": 865
    },
    "executionInfo": {
     "elapsed": 16,
     "status": "ok",
     "timestamp": 1727947233373,
     "user": {
      "displayName": "Steven Gramanuel",
      "userId": "10634889113243061284"
     },
     "user_tz": -420
    },
    "id": "GNuEzhOk7XLq",
    "outputId": "2f94b42f-8b60-4c9a-d627-7d93bb6e013f"
   },
   "outputs": [
    {
     "data": {
      "text/html": [
       "<div>\n",
       "<style scoped>\n",
       "    .dataframe tbody tr th:only-of-type {\n",
       "        vertical-align: middle;\n",
       "    }\n",
       "\n",
       "    .dataframe tbody tr th {\n",
       "        vertical-align: top;\n",
       "    }\n",
       "\n",
       "    .dataframe thead tr th {\n",
       "        text-align: left;\n",
       "    }\n",
       "\n",
       "    .dataframe thead tr:last-of-type th {\n",
       "        text-align: right;\n",
       "    }\n",
       "</style>\n",
       "<table border=\"1\" class=\"dataframe\">\n",
       "  <thead>\n",
       "    <tr>\n",
       "      <th></th>\n",
       "      <th colspan=\"3\" halign=\"left\">total_count</th>\n",
       "    </tr>\n",
       "    <tr>\n",
       "      <th></th>\n",
       "      <th>sum</th>\n",
       "      <th>min</th>\n",
       "      <th>max</th>\n",
       "    </tr>\n",
       "    <tr>\n",
       "      <th>hour</th>\n",
       "      <th></th>\n",
       "      <th></th>\n",
       "      <th></th>\n",
       "    </tr>\n",
       "  </thead>\n",
       "  <tbody>\n",
       "    <tr>\n",
       "      <th>17</th>\n",
       "      <td>336860</td>\n",
       "      <td>15</td>\n",
       "      <td>976</td>\n",
       "    </tr>\n",
       "    <tr>\n",
       "      <th>18</th>\n",
       "      <td>309772</td>\n",
       "      <td>23</td>\n",
       "      <td>977</td>\n",
       "    </tr>\n",
       "    <tr>\n",
       "      <th>8</th>\n",
       "      <td>261001</td>\n",
       "      <td>5</td>\n",
       "      <td>839</td>\n",
       "    </tr>\n",
       "    <tr>\n",
       "      <th>16</th>\n",
       "      <td>227748</td>\n",
       "      <td>11</td>\n",
       "      <td>783</td>\n",
       "    </tr>\n",
       "    <tr>\n",
       "      <th>19</th>\n",
       "      <td>226789</td>\n",
       "      <td>11</td>\n",
       "      <td>743</td>\n",
       "    </tr>\n",
       "    <tr>\n",
       "      <th>13</th>\n",
       "      <td>184919</td>\n",
       "      <td>11</td>\n",
       "      <td>760</td>\n",
       "    </tr>\n",
       "    <tr>\n",
       "      <th>12</th>\n",
       "      <td>184414</td>\n",
       "      <td>3</td>\n",
       "      <td>776</td>\n",
       "    </tr>\n",
       "    <tr>\n",
       "      <th>15</th>\n",
       "      <td>183149</td>\n",
       "      <td>7</td>\n",
       "      <td>750</td>\n",
       "    </tr>\n",
       "    <tr>\n",
       "      <th>14</th>\n",
       "      <td>175652</td>\n",
       "      <td>12</td>\n",
       "      <td>750</td>\n",
       "    </tr>\n",
       "    <tr>\n",
       "      <th>20</th>\n",
       "      <td>164550</td>\n",
       "      <td>11</td>\n",
       "      <td>567</td>\n",
       "    </tr>\n",
       "    <tr>\n",
       "      <th>9</th>\n",
       "      <td>159438</td>\n",
       "      <td>14</td>\n",
       "      <td>426</td>\n",
       "    </tr>\n",
       "    <tr>\n",
       "      <th>7</th>\n",
       "      <td>154171</td>\n",
       "      <td>1</td>\n",
       "      <td>596</td>\n",
       "    </tr>\n",
       "    <tr>\n",
       "      <th>11</th>\n",
       "      <td>151320</td>\n",
       "      <td>10</td>\n",
       "      <td>663</td>\n",
       "    </tr>\n",
       "    <tr>\n",
       "      <th>10</th>\n",
       "      <td>126257</td>\n",
       "      <td>8</td>\n",
       "      <td>539</td>\n",
       "    </tr>\n",
       "    <tr>\n",
       "      <th>21</th>\n",
       "      <td>125445</td>\n",
       "      <td>6</td>\n",
       "      <td>584</td>\n",
       "    </tr>\n",
       "    <tr>\n",
       "      <th>22</th>\n",
       "      <td>95612</td>\n",
       "      <td>9</td>\n",
       "      <td>502</td>\n",
       "    </tr>\n",
       "    <tr>\n",
       "      <th>23</th>\n",
       "      <td>63941</td>\n",
       "      <td>2</td>\n",
       "      <td>256</td>\n",
       "    </tr>\n",
       "    <tr>\n",
       "      <th>6</th>\n",
       "      <td>55132</td>\n",
       "      <td>1</td>\n",
       "      <td>213</td>\n",
       "    </tr>\n",
       "    <tr>\n",
       "      <th>0</th>\n",
       "      <td>39130</td>\n",
       "      <td>2</td>\n",
       "      <td>283</td>\n",
       "    </tr>\n",
       "    <tr>\n",
       "      <th>1</th>\n",
       "      <td>24164</td>\n",
       "      <td>1</td>\n",
       "      <td>168</td>\n",
       "    </tr>\n",
       "    <tr>\n",
       "      <th>2</th>\n",
       "      <td>16352</td>\n",
       "      <td>1</td>\n",
       "      <td>132</td>\n",
       "    </tr>\n",
       "    <tr>\n",
       "      <th>5</th>\n",
       "      <td>14261</td>\n",
       "      <td>1</td>\n",
       "      <td>66</td>\n",
       "    </tr>\n",
       "    <tr>\n",
       "      <th>3</th>\n",
       "      <td>8174</td>\n",
       "      <td>1</td>\n",
       "      <td>79</td>\n",
       "    </tr>\n",
       "    <tr>\n",
       "      <th>4</th>\n",
       "      <td>4428</td>\n",
       "      <td>1</td>\n",
       "      <td>28</td>\n",
       "    </tr>\n",
       "  </tbody>\n",
       "</table>\n",
       "</div>"
      ],
      "text/plain": [
       "     total_count         \n",
       "             sum min  max\n",
       "hour                     \n",
       "17        336860  15  976\n",
       "18        309772  23  977\n",
       "8         261001   5  839\n",
       "16        227748  11  783\n",
       "19        226789  11  743\n",
       "13        184919  11  760\n",
       "12        184414   3  776\n",
       "15        183149   7  750\n",
       "14        175652  12  750\n",
       "20        164550  11  567\n",
       "9         159438  14  426\n",
       "7         154171   1  596\n",
       "11        151320  10  663\n",
       "10        126257   8  539\n",
       "21        125445   6  584\n",
       "22         95612   9  502\n",
       "23         63941   2  256\n",
       "6          55132   1  213\n",
       "0          39130   2  283\n",
       "1          24164   1  168\n",
       "2          16352   1  132\n",
       "5          14261   1   66\n",
       "3           8174   1   79\n",
       "4           4428   1   28"
      ]
     },
     "execution_count": 34,
     "metadata": {},
     "output_type": "execute_result"
    }
   ],
   "source": [
    "hour_df.groupby('hour').agg({'total_count': ['sum', 'min', 'max']}).sort_values(by=('total_count', 'sum'), ascending=False)\n"
   ]
  },
  {
   "cell_type": "markdown",
   "metadata": {
    "id": "xu_R_Y4hfjuX"
   },
   "source": [
    "**Rangkuman**\n",
    "waktu paling banyak penyewaan sepeda adalah pukul 5 sore sedangkan yang paling sedikit adalah pukul 4 pagi"
   ]
  },
  {
   "cell_type": "markdown",
   "metadata": {
    "id": "zsyZjqak8DC2"
   },
   "source": [
    "# Visualization & Explanatory Analysis"
   ]
  },
  {
   "cell_type": "markdown",
   "metadata": {
    "id": "HZxOiQ6n8DC2"
   },
   "source": [
    "### Pertanyaan 1: Jumlah Sepeda yang disewakan dalam kurun waktu 2011 sampai 2012"
   ]
  },
  {
   "cell_type": "code",
   "execution_count": 35,
   "metadata": {
    "colab": {
     "base_uri": "https://localhost:8080/",
     "height": 604
    },
    "executionInfo": {
     "elapsed": 1816,
     "status": "ok",
     "timestamp": 1727947235174,
     "user": {
      "displayName": "Steven Gramanuel",
      "userId": "10634889113243061284"
     },
     "user_tz": -420
    },
    "id": "1swJUdAD8DC2",
    "outputId": "6ecca348-e382-4a41-d760-c38b899de925"
   },
   "outputs": [
    {
     "name": "stderr",
     "output_type": "stream",
     "text": [
      "C:\\Users\\LENOVO\\AppData\\Local\\Temp\\ipykernel_16400\\2232716033.py:10: FutureWarning: The default of observed=False is deprecated and will be changed to True in a future version of pandas. Pass observed=False to retain current behavior or observed=True to adopt the future default and silence this warning.\n",
      "  day_df['sum_total'] = day_df.groupby('year_month')['total_count'].transform('sum')\n"
     ]
    },
    {
     "data": {
      "image/png": "[encoded data removed]",
      "text/plain": [
       "<Figure size 2000x800 with 1 Axes>"
      ]
     },
     "metadata": {},
     "output_type": "display_data"
    }
   ],
   "source": [
    "sortval = ['Jan 2011', 'Feb 2011', 'Mar 2011', 'Apr 2011', 'May 2011', 'Jun 2011',\n",
    "           'Jul 2011', 'Aug 2011', 'Sep 2011', 'Oct 2011', 'Nov 2011', 'Dec 2011',\n",
    "           'Jan 2012', 'Feb 2012', 'Mar 2012', 'Apr 2012', 'May 2012', 'Jun 2012',\n",
    "           'Jul 2012', 'Aug 2012', 'Sep 2012', 'Oct 2012', 'Nov 2012', 'Dec 2012']\n",
    "\n",
    "day_df['year_month'] = day_df['month'].apply(lambda x: x[:3]) + ' ' + day_df['year'].astype(str)\n",
    "\n",
    "day_df['year_month'] = pd.Categorical(day_df['year_month'], categories=sortval, ordered=True)\n",
    "\n",
    "day_df['sum_total'] = day_df.groupby('year_month')['total_count'].transform('sum')\n",
    "\n",
    "plt.figure(figsize=(20, 8))\n",
    "sns.set(style='darkgrid')\n",
    "sns.lineplot(\n",
    "    data=day_df.sort_values('year_month'),\n",
    "    x='year_month',\n",
    "    y='sum_total',\n",
    "    marker='o',\n",
    "    color='red'\n",
    ")\n",
    "\n",
    "plt.title(\"Jumlah Sepeda yang Disewa Selama Dua Tahun Terakhir\", fontsize=20)\n",
    "plt.xlabel(\"Bulan - Tahun\", fontsize=16)\n",
    "plt.ylabel(\"Total Penyewa\", fontsize=16)\n",
    "plt.xticks(rotation=55)\n",
    "plt.show()\n"
   ]
  },
  {
   "cell_type": "code",
   "execution_count": 36,
   "metadata": {
    "colab": {
     "base_uri": "https://localhost:8080/",
     "height": 802
    },
    "executionInfo": {
     "elapsed": 9,
     "status": "ok",
     "timestamp": 1727947235174,
     "user": {
      "displayName": "Steven Gramanuel",
      "userId": "10634889113243061284"
     },
     "user_tz": -420
    },
    "id": "jwS1J_SufjuX",
    "outputId": "c9be255a-f55d-4ef5-b386-89adc9364f8b"
   },
   "outputs": [
    {
     "data": {
      "text/html": [
       "<div>\n",
       "<style scoped>\n",
       "    .dataframe tbody tr th:only-of-type {\n",
       "        vertical-align: middle;\n",
       "    }\n",
       "\n",
       "    .dataframe tbody tr th {\n",
       "        vertical-align: top;\n",
       "    }\n",
       "\n",
       "    .dataframe thead th {\n",
       "        text-align: right;\n",
       "    }\n",
       "</style>\n",
       "<table border=\"1\" class=\"dataframe\">\n",
       "  <thead>\n",
       "    <tr style=\"text-align: right;\">\n",
       "      <th></th>\n",
       "      <th>year_month</th>\n",
       "      <th>sum_total</th>\n",
       "    </tr>\n",
       "  </thead>\n",
       "  <tbody>\n",
       "    <tr>\n",
       "      <th>609</th>\n",
       "      <td>Sep 2012</td>\n",
       "      <td>218573</td>\n",
       "    </tr>\n",
       "    <tr>\n",
       "      <th>578</th>\n",
       "      <td>Aug 2012</td>\n",
       "      <td>214503</td>\n",
       "    </tr>\n",
       "    <tr>\n",
       "      <th>547</th>\n",
       "      <td>Jul 2012</td>\n",
       "      <td>203607</td>\n",
       "    </tr>\n",
       "    <tr>\n",
       "      <th>517</th>\n",
       "      <td>Jun 2012</td>\n",
       "      <td>202830</td>\n",
       "    </tr>\n",
       "    <tr>\n",
       "      <th>639</th>\n",
       "      <td>Oct 2012</td>\n",
       "      <td>198841</td>\n",
       "    </tr>\n",
       "    <tr>\n",
       "      <th>486</th>\n",
       "      <td>May 2012</td>\n",
       "      <td>195865</td>\n",
       "    </tr>\n",
       "    <tr>\n",
       "      <th>456</th>\n",
       "      <td>Apr 2012</td>\n",
       "      <td>174224</td>\n",
       "    </tr>\n",
       "    <tr>\n",
       "      <th>425</th>\n",
       "      <td>Mar 2012</td>\n",
       "      <td>164875</td>\n",
       "    </tr>\n",
       "    <tr>\n",
       "      <th>670</th>\n",
       "      <td>Nov 2012</td>\n",
       "      <td>152664</td>\n",
       "    </tr>\n",
       "    <tr>\n",
       "      <th>151</th>\n",
       "      <td>Jun 2011</td>\n",
       "      <td>143512</td>\n",
       "    </tr>\n",
       "    <tr>\n",
       "      <th>181</th>\n",
       "      <td>Jul 2011</td>\n",
       "      <td>141341</td>\n",
       "    </tr>\n",
       "    <tr>\n",
       "      <th>212</th>\n",
       "      <td>Aug 2011</td>\n",
       "      <td>136691</td>\n",
       "    </tr>\n",
       "    <tr>\n",
       "      <th>120</th>\n",
       "      <td>May 2011</td>\n",
       "      <td>135821</td>\n",
       "    </tr>\n",
       "    <tr>\n",
       "      <th>243</th>\n",
       "      <td>Sep 2011</td>\n",
       "      <td>127418</td>\n",
       "    </tr>\n",
       "    <tr>\n",
       "      <th>700</th>\n",
       "      <td>Dec 2012</td>\n",
       "      <td>123713</td>\n",
       "    </tr>\n",
       "    <tr>\n",
       "      <th>273</th>\n",
       "      <td>Oct 2011</td>\n",
       "      <td>123511</td>\n",
       "    </tr>\n",
       "    <tr>\n",
       "      <th>396</th>\n",
       "      <td>Feb 2012</td>\n",
       "      <td>103137</td>\n",
       "    </tr>\n",
       "    <tr>\n",
       "      <th>304</th>\n",
       "      <td>Nov 2011</td>\n",
       "      <td>102167</td>\n",
       "    </tr>\n",
       "    <tr>\n",
       "      <th>365</th>\n",
       "      <td>Jan 2012</td>\n",
       "      <td>96744</td>\n",
       "    </tr>\n",
       "    <tr>\n",
       "      <th>90</th>\n",
       "      <td>Apr 2011</td>\n",
       "      <td>94870</td>\n",
       "    </tr>\n",
       "    <tr>\n",
       "      <th>334</th>\n",
       "      <td>Dec 2011</td>\n",
       "      <td>87323</td>\n",
       "    </tr>\n",
       "    <tr>\n",
       "      <th>59</th>\n",
       "      <td>Mar 2011</td>\n",
       "      <td>64045</td>\n",
       "    </tr>\n",
       "    <tr>\n",
       "      <th>31</th>\n",
       "      <td>Feb 2011</td>\n",
       "      <td>48215</td>\n",
       "    </tr>\n",
       "    <tr>\n",
       "      <th>0</th>\n",
       "      <td>Jan 2011</td>\n",
       "      <td>38189</td>\n",
       "    </tr>\n",
       "  </tbody>\n",
       "</table>\n",
       "</div>"
      ],
      "text/plain": [
       "    year_month  sum_total\n",
       "609   Sep 2012     218573\n",
       "578   Aug 2012     214503\n",
       "547   Jul 2012     203607\n",
       "517   Jun 2012     202830\n",
       "639   Oct 2012     198841\n",
       "486   May 2012     195865\n",
       "456   Apr 2012     174224\n",
       "425   Mar 2012     164875\n",
       "670   Nov 2012     152664\n",
       "151   Jun 2011     143512\n",
       "181   Jul 2011     141341\n",
       "212   Aug 2011     136691\n",
       "120   May 2011     135821\n",
       "243   Sep 2011     127418\n",
       "700   Dec 2012     123713\n",
       "273   Oct 2011     123511\n",
       "396   Feb 2012     103137\n",
       "304   Nov 2011     102167\n",
       "365   Jan 2012      96744\n",
       "90    Apr 2011      94870\n",
       "334   Dec 2011      87323\n",
       "59    Mar 2011      64045\n",
       "31    Feb 2011      48215\n",
       "0     Jan 2011      38189"
      ]
     },
     "execution_count": 36,
     "metadata": {},
     "output_type": "execute_result"
    }
   ],
   "source": [
    "year_month_sum= day_df[['year_month', 'sum_total']].drop_duplicates().sort_values(by='year_month')\n",
    "year_month_sum.sort_values(by='sum_total', ascending=False)"
   ]
  },
  {
   "cell_type": "markdown",
   "metadata": {
    "id": "SOVIvLEOfjuY"
   },
   "source": [
    "**Kesimpulan**\n",
    "\n",
    "Terdapat tren peningkatan yang signifikan dalam penyewaan sepeda selama dua tahun terakhir. Bulan Januari mencatat jumlah penyewaan terendah, dengan total hanya 38189  unit. Sebaliknya, bulan September 2012 mencapai puncak penyewaan tertinggi, dengan total 218.573 unit. Meskipun demikian, setelah bulan tersebut, terjadi penurunan yang cukup signifikan, yang mungkin disebabkan oleh perubahan musim menuju musim dingin (winter), yang cenderung mengurangi minat masyarakat untuk menyewa sepeda.\n",
    "\n"
   ]
  },
  {
   "cell_type": "markdown",
   "metadata": {
    "id": "Yvoy1LtjfjuZ"
   },
   "source": [
    "### Pertanyaan 2: Jumlah Penyewa Berdasarkan Musim"
   ]
  },
  {
   "cell_type": "code",
   "execution_count": 37,
   "metadata": {
    "colab": {
     "base_uri": "https://localhost:8080/",
     "height": 583
    },
    "executionInfo": {
     "elapsed": 22,
     "status": "ok",
     "timestamp": 1727947239500,
     "user": {
      "displayName": "Steven Gramanuel",
      "userId": "10634889113243061284"
     },
     "user_tz": -420
    },
    "id": "IXv61XTXfjuZ",
    "outputId": "1e3cd67f-f90e-4185-d773-b692e2bc8527"
   },
   "outputs": [
    {
     "data": {
      "image/png": "[encoded data removed]",
      "text/plain": [
       "<Figure size 1000x600 with 1 Axes>"
      ]
     },
     "metadata": {},
     "output_type": "display_data"
    }
   ],
   "source": [
    "\n",
    "# Membuat variabel total data pelanggan registered dan kasual setiap season\n",
    "sewa_musim = day_df.groupby('season')[['registered', 'casual']].sum().reset_index()\n",
    "\n",
    "# Menghitung total penyewaan untuk mengurutkan\n",
    "sewa_musim['total'] = sewa_musim['registered'] + sewa_musim['casual']\n",
    "\n",
    "# Mengurutkan data dari terbesar ke terkecil berdasarkan total penyewaan\n",
    "sewa_musim = sewa_musim.sort_values(by='total', ascending=False)\n",
    "\n",
    "# Membuat bar chart\n",
    "plt.figure(figsize=(10, 6))\n",
    "\n",
    "# Menambahkan bar untuk jumlah pengguna terdaftar\n",
    "sns.barplot(\n",
    "    data=sewa_musim,\n",
    "    x='season',\n",
    "    y='registered',\n",
    "    label='Registered',\n",
    "    color='tab:red'\n",
    ")\n",
    "\n",
    "# Menambahkan bar untuk jumlah pengguna kasual\n",
    "sns.barplot(\n",
    "    data=sewa_musim,\n",
    "    x='season',\n",
    "    y='casual',\n",
    "    label='Casual',\n",
    "    color='tab:blue'\n",
    ")\n",
    "\n",
    "# Menambahkan judul dan label\n",
    "plt.title('Total Sepeda yang Disewakan Berdasarkan Musim', fontsize=20)\n",
    "plt.xlabel('Musim', fontsize=16)\n",
    "plt.ylabel('Total Penyewaan', fontsize=16)\n",
    "\n",
    "# Menambahkan legend\n",
    "plt.legend()\n",
    "\n",
    "# Menampilkan plot\n",
    "plt.show()\n"
   ]
  },
  {
   "cell_type": "markdown",
   "metadata": {
    "id": "Fvh7yERrfjua"
   },
   "source": [
    "**Kesimpulan**\n",
    "\n",
    "Grafik ini menunjukkan bahwa musim dengan jumlah penyewa terbanyak adalah autumn (musim gugur), mencapai lebih dari 800.000 penyewa, sementara musim dengan jumlah penyewa paling sedikit adalah spring (musim semi). Temuan ini mengindikasikan preferensi pengguna terhadap penyewaan sepeda yang lebih tinggi pada musim gugur, mungkin disebabkan oleh kondisi cuaca yang lebih nyaman dan daya tarik kegiatan luar ruangan, sedangkan musim semi menunjukkan kurangnya minat atau faktor lain yang membatasi jumlah penyewa."
   ]
  },
  {
   "cell_type": "code",
   "execution_count": 38,
   "metadata": {
    "colab": {
     "base_uri": "https://localhost:8080/",
     "height": 175
    },
    "executionInfo": {
     "elapsed": 22,
     "status": "ok",
     "timestamp": 1727947239500,
     "user": {
      "displayName": "Steven Gramanuel",
      "userId": "10634889113243061284"
     },
     "user_tz": -420
    },
    "id": "BxJXXO8Ufjua",
    "outputId": "c72442dc-07c8-4c11-b0ce-4ea63b80ee45"
   },
   "outputs": [
    {
     "data": {
      "text/html": [
       "<div>\n",
       "<style scoped>\n",
       "    .dataframe tbody tr th:only-of-type {\n",
       "        vertical-align: middle;\n",
       "    }\n",
       "\n",
       "    .dataframe tbody tr th {\n",
       "        vertical-align: top;\n",
       "    }\n",
       "\n",
       "    .dataframe thead th {\n",
       "        text-align: right;\n",
       "    }\n",
       "</style>\n",
       "<table border=\"1\" class=\"dataframe\">\n",
       "  <thead>\n",
       "    <tr style=\"text-align: right;\">\n",
       "      <th></th>\n",
       "      <th>season</th>\n",
       "      <th>registered</th>\n",
       "      <th>casual</th>\n",
       "      <th>total</th>\n",
       "    </tr>\n",
       "  </thead>\n",
       "  <tbody>\n",
       "    <tr>\n",
       "      <th>0</th>\n",
       "      <td>autumn</td>\n",
       "      <td>835038</td>\n",
       "      <td>226091</td>\n",
       "      <td>1061129</td>\n",
       "    </tr>\n",
       "    <tr>\n",
       "      <th>2</th>\n",
       "      <td>summer</td>\n",
       "      <td>715067</td>\n",
       "      <td>203522</td>\n",
       "      <td>918589</td>\n",
       "    </tr>\n",
       "    <tr>\n",
       "      <th>3</th>\n",
       "      <td>winter</td>\n",
       "      <td>711831</td>\n",
       "      <td>129782</td>\n",
       "      <td>841613</td>\n",
       "    </tr>\n",
       "    <tr>\n",
       "      <th>1</th>\n",
       "      <td>spring</td>\n",
       "      <td>410726</td>\n",
       "      <td>60622</td>\n",
       "      <td>471348</td>\n",
       "    </tr>\n",
       "  </tbody>\n",
       "</table>\n",
       "</div>"
      ],
      "text/plain": [
       "   season  registered  casual    total\n",
       "0  autumn      835038  226091  1061129\n",
       "2  summer      715067  203522   918589\n",
       "3  winter      711831  129782   841613\n",
       "1  spring      410726   60622   471348"
      ]
     },
     "execution_count": 38,
     "metadata": {},
     "output_type": "execute_result"
    }
   ],
   "source": [
    "sewa_musim"
   ]
  },
  {
   "cell_type": "markdown",
   "metadata": {
    "id": "bulxnE_Mfjua"
   },
   "source": [
    "### Pertanyaan 3: Jumlah Penyewa Berdasarkan Cuaca"
   ]
  },
  {
   "cell_type": "code",
   "execution_count": 39,
   "metadata": {
    "colab": {
     "base_uri": "https://localhost:8080/",
     "height": 583
    },
    "executionInfo": {
     "elapsed": 1445,
     "status": "ok",
     "timestamp": 1727953941823,
     "user": {
      "displayName": "Steven Gramanuel",
      "userId": "10634889113243061284"
     },
     "user_tz": -420
    },
    "id": "L5KnFhgufjua",
    "outputId": "7f8dd2cd-11fd-41cf-ecf2-038a85cacad7"
   },
   "outputs": [
    {
     "data": {
      "image/png": "[encoded data removed]",
      "text/plain": [
       "<Figure size 1000x600 with 1 Axes>"
      ]
     },
     "metadata": {},
     "output_type": "display_data"
    }
   ],
   "source": [
    "# Mengelompokkan data berdasarkan kondisi cuaca\n",
    "sewa_cuaca = hour_df.groupby('weather_condition')[['registered', 'casual']].sum().reset_index()\n",
    "\n",
    "# Menghitung total penyewaan untuk mengurutkan\n",
    "sewa_cuaca['total'] = sewa_cuaca['registered'] + sewa_cuaca['casual']\n",
    "\n",
    "# Mengurutkan data dari terbesar ke terkecil berdasarkan total penyewaan\n",
    "sewa_cuaca = sewa_cuaca.sort_values(by='total', ascending=False)\n",
    "\n",
    "# Membuat bar chart\n",
    "plt.figure(figsize=(10, 6))\n",
    "\n",
    "# Menambahkan bar untuk jumlah pengguna terdaftar\n",
    "sns.barplot(\n",
    "    data=sewa_cuaca,\n",
    "    x='weather_condition',\n",
    "    y='registered',\n",
    "    label='Registered',\n",
    "    color='tab:red'\n",
    ")\n",
    "\n",
    "# Menambahkan bar untuk jumlah pengguna kasual\n",
    "sns.barplot(\n",
    "    data=sewa_cuaca,\n",
    "    x='weather_condition',\n",
    "    y='casual',\n",
    "    label='Casual',\n",
    "    color='tab:blue'\n",
    ")\n",
    "\n",
    "# Menambahkan judul dan label\n",
    "plt.title('Total Sepeda yang Disewakan Berdasarkan Cuaca', fontsize=20)\n",
    "plt.xlabel('Kondisi Cuaca', fontsize=16)\n",
    "plt.ylabel('Total Penyewaan', fontsize=16)\n",
    "\n",
    "# Memastikan sumbu y menampilkan rentang yang tepat\n",
    "plt.ylim(0, sewa_cuaca[['registered', 'casual']].values.max() + 100)  # Atur batas atas sumbu y\n",
    "\n",
    "# Menambahkan legend\n",
    "plt.legend()\n",
    "\n",
    "# Menampilkan plot\n",
    "plt.show()\n"
   ]
  },
  {
   "cell_type": "markdown",
   "metadata": {
    "id": "6jF9E9FBfjub"
   },
   "source": [
    "**Kesimpulan**\n",
    "\n",
    "Grafik ini menunjukkan bahwa kondisi cuaca memiliki pengaruh yang signifikan terhadap total penyewaan sepeda. Dalam hal ini, cuaca yang cerah (clear) mencatatkan jumlah penyewaan yang jauh lebih tinggi dibandingkan dengan cuaca hujan ringan (light rain), yang menunjukkan perbedaan yang mencolok. Temuan ini mengindikasikan bahwa cuaca cerah merupakan kondisi yang paling ideal untuk menyewa sepeda dan bersepeda, memberikan pengalaman yang lebih menyenangkan bagi para pengguna."
   ]
  },
  {
   "cell_type": "code",
   "execution_count": 40,
   "metadata": {
    "colab": {
     "base_uri": "https://localhost:8080/",
     "height": 175
    },
    "executionInfo": {
     "elapsed": 840,
     "status": "ok",
     "timestamp": 1727953963472,
     "user": {
      "displayName": "Steven Gramanuel",
      "userId": "10634889113243061284"
     },
     "user_tz": -420
    },
    "id": "d5ggPqbPfjub",
    "outputId": "22577c6f-4085-4d02-e533-fcf77def111b"
   },
   "outputs": [
    {
     "data": {
      "text/html": [
       "<div>\n",
       "<style scoped>\n",
       "    .dataframe tbody tr th:only-of-type {\n",
       "        vertical-align: middle;\n",
       "    }\n",
       "\n",
       "    .dataframe tbody tr th {\n",
       "        vertical-align: top;\n",
       "    }\n",
       "\n",
       "    .dataframe thead th {\n",
       "        text-align: right;\n",
       "    }\n",
       "</style>\n",
       "<table border=\"1\" class=\"dataframe\">\n",
       "  <thead>\n",
       "    <tr style=\"text-align: right;\">\n",
       "      <th></th>\n",
       "      <th>weather_condition</th>\n",
       "      <th>registered</th>\n",
       "      <th>casual</th>\n",
       "      <th>total</th>\n",
       "    </tr>\n",
       "  </thead>\n",
       "  <tbody>\n",
       "    <tr>\n",
       "      <th>0</th>\n",
       "      <td>Clear</td>\n",
       "      <td>1875428</td>\n",
       "      <td>462745</td>\n",
       "      <td>2338173</td>\n",
       "    </tr>\n",
       "    <tr>\n",
       "      <th>3</th>\n",
       "      <td>Mist</td>\n",
       "      <td>661471</td>\n",
       "      <td>134481</td>\n",
       "      <td>795952</td>\n",
       "    </tr>\n",
       "    <tr>\n",
       "      <th>2</th>\n",
       "      <td>Light Rain</td>\n",
       "      <td>135548</td>\n",
       "      <td>22783</td>\n",
       "      <td>158331</td>\n",
       "    </tr>\n",
       "    <tr>\n",
       "      <th>1</th>\n",
       "      <td>Heavy Rain</td>\n",
       "      <td>215</td>\n",
       "      <td>8</td>\n",
       "      <td>223</td>\n",
       "    </tr>\n",
       "  </tbody>\n",
       "</table>\n",
       "</div>"
      ],
      "text/plain": [
       "  weather_condition  registered  casual    total\n",
       "0             Clear     1875428  462745  2338173\n",
       "3              Mist      661471  134481   795952\n",
       "2        Light Rain      135548   22783   158331\n",
       "1        Heavy Rain         215       8      223"
      ]
     },
     "execution_count": 40,
     "metadata": {},
     "output_type": "execute_result"
    }
   ],
   "source": [
    "sewa_cuaca"
   ]
  },
  {
   "cell_type": "markdown",
   "metadata": {
    "id": "uwaYQfEPfjud"
   },
   "source": [
    "### Pertanyaan 4 : Di waktu kapan paling banyak dilakukannya penyewaan sepeda? (Hour & Day)"
   ]
  },
  {
   "cell_type": "code",
   "execution_count": 41,
   "metadata": {},
   "outputs": [
    {
     "data": {
      "image/png": "[encoded data removed]",
      "text/plain": [
       "<Figure size 1000x600 with 1 Axes>"
      ]
     },
     "metadata": {},
     "output_type": "display_data"
    }
   ],
   "source": [
    "# Mengelompokkan data berdasarkan hari dalam seminggu dan menghitung total sewa\n",
    "weekday_data = day_df.groupby('weekday')['total_count'].sum().reset_index()\n",
    "\n",
    "# Membuat bar plot\n",
    "plt.figure(figsize=(10, 6))\n",
    "bars = plt.bar(weekday_data['weekday'], weekday_data['total_count'], color='#4682b4')\n",
    "\n",
    "# Mengubah warna bar maksimum menjadi merah\n",
    "max_value = weekday_data['total_count'].max()\n",
    "for bar in bars:\n",
    "    if bar.get_height() == max_value:\n",
    "        bar.set_color('#B21807')\n",
    "\n",
    "# Menambahkan label sumbu x dengan nama hari\n",
    "plt.xticks(weekday_data['weekday'], ['Sunday', 'Monday', 'Tuesday', 'Wednesday', 'Thursday', 'Friday', 'Saturday'])\n",
    "\n",
    "# Menambahkan judul dan label sumbu\n",
    "plt.title('Total Bike Rentals by Days', fontsize=20)\n",
    "plt.xlabel('Days')\n",
    "plt.ylabel('Total Bike Rentals')\n",
    "\n",
    "# Menampilkan plot\n",
    "plt.show()"
   ]
  },
  {
   "cell_type": "markdown",
   "metadata": {},
   "source": [
    "**Kesimpulan**\n",
    "\n",
    "Grafik ini menunjukkan bahwa hari Jumat merupakan hari paling sering orang melakukan penyewaan sepeda dalam kurun waktu dua tahun terakhir, sementara hari Minggu mencatatkan jumlah penyewaan terendah. Temuan ini mengindikasikan bahwa banyak orang cenderung memanfaatkan layanan penyewaan sepeda pada akhir pekan untuk beraktivitas, seperti berolahraga atau bersantai. Sebaliknya, hari Minggu, yang biasanya lebih tenang, menunjukkan minat yang lebih rendah terhadap penyewaan sepeda. Hasil ini dapat membantu pengelola layanan penyewaan sepeda dalam merencanakan strategi promosi dan penjadwalan untuk meningkatkan jumlah penyewaan, terutama pada hari-hari dengan permintaan yang lebih rendah."
   ]
  },
  {
   "cell_type": "code",
   "execution_count": 42,
   "metadata": {
    "colab": {
     "base_uri": "https://localhost:8080/",
     "height": 581
    },
    "executionInfo": {
     "elapsed": 901,
     "status": "ok",
     "timestamp": 1727947240384,
     "user": {
      "displayName": "Steven Gramanuel",
      "userId": "10634889113243061284"
     },
     "user_tz": -420
    },
    "id": "zDS2cIMUfjud",
    "outputId": "a14c3d24-9c71-449f-abae-a6e36be4d351"
   },
   "outputs": [
    {
     "data": {
      "image/png": "[encoded data removed]",
      "text/plain": [
       "<Figure size 1000x600 with 1 Axes>"
      ]
     },
     "metadata": {},
     "output_type": "display_data"
    }
   ],
   "source": [
    "import matplotlib.pyplot as plt\n",
    "\n",
    "# Menghitung total count berdasarkan jam\n",
    "total_count_per_hour = hour_df.groupby('hour')['total_count'].sum()\n",
    "\n",
    "# Membuat bar plot\n",
    "plt.figure(figsize=(10, 6))\n",
    "\n",
    "# Mencari indeks jam dengan total tertinggi\n",
    "max_value_index = total_count_per_hour.idxmax()  # Mendapatkan indeks jam dengan nilai maksimum\n",
    "colors = ['#B21807' if hour == max_value_index else '#4682b4' for hour in total_count_per_hour.index]\n",
    "\n",
    "# Menggambar bar dengan warna yang sesuai\n",
    "plt.bar(total_count_per_hour.index, total_count_per_hour.values, color=colors)\n",
    "\n",
    "# Menambahkan judul dan label\n",
    "plt.title('Total Bike Rentals by Hour', fontsize =20)\n",
    "plt.xlabel('Hour')\n",
    "plt.ylabel('Total Bike Rentals')\n",
    "plt.xticks(total_count_per_hour.index)\n",
    "# Menampilkan plot\n",
    "plt.show()"
   ]
  },
  {
   "cell_type": "markdown",
   "metadata": {
    "id": "Jw9jfEcYfjud"
   },
   "source": [
    "**Kesimpulan**\n",
    "\n",
    "Grafik ini menunjukkan bahwa pukul 5 sore adalah waktu paling banyak orang melakukan penyewaan sepeda, sedangkan pukul 4 pagi mencatatkan jumlah penyewaan yang paling sedikit. Temuan ini menandakan bahwa pukul 5 sore merupakan jam puncak (peak hour) untuk penyewaan sepeda. Dengan informasi ini, perusahaan dapat merencanakan strategi promosi yang lebih efektif, khususnya pada jam-jam sibuk tersebut, guna menarik lebih banyak pelanggan dan memaksimalkan potensi penyewaan. Hal ini dapat mencakup penawaran diskon, program loyalitas, atau kampanye pemasaran yang menyasar pengguna potensial di waktu-waktu puncak tersebut, sehingga meningkatkan visibilitas dan penjualan mereka."
   ]
  },
  {
   "cell_type": "markdown",
   "metadata": {
    "id": "_WeHlCeX8DC2"
   },
   "source": [
    "## Conclusion"
   ]
  },
  {
   "cell_type": "markdown",
   "metadata": {
    "id": "PjuLN7Ldfjue"
   },
   "source": [
    "1. **Tren Penyewaan**: Selama dua tahun terakhir, kita melihat tren yang jelas dengan peningkatan signifikan dalam penyewaan sepeda. Januari 2011 menjadi bulan dengan penyewaan terendah, hanya 38189 unit, sementara September 2012 mencatatkan jumlah penyewaan tertinggi, mencapai 218.573 unit. Namun, setelah bulan tersebut, terjadi penurunan yang cukup signifikan, kemungkinan besar karena peralihan musim menuju musim dingin.\n",
    "\n",
    "2. **Musim Penyewaan**: Dalam hal musim, grafik menunjukkan bahwa musim gugur adalah saat terbaik untuk penyewaan, dengan lebih dari 800.000 penyewa. Sebaliknya, musim semi mencatatkan jumlah penyewa yang paling sedikit.\n",
    "\n",
    "3. **Pengaruh Cuaca**: Cuaca ternyata memainkan peranan penting dalam total penyewaan sepeda. Ketika cuaca cerah, jumlah penyewaan meningkat secara signifikan dibandingkan saat hujan ringan. Ini jelas menunjukkan bahwa cuaca cerah adalah kondisi terbaik untuk menyewa sepeda.\n",
    "\n",
    "4. **Waktu Penyewaan**: Jika kita lihat dari segi hari, Jumat adalah hari yang paling banyak orang melakukan penyewaan sepeda dalam dua tahun terakhir, sementara Minggu adalah hari dengan jumlah penyewa paling sedikit. Sedangkan jika dilihat dari segi jam menunjukkan bahwa pukul 5 sore adalah waktu paling ramai untuk penyewaan sepeda, sedangkan pukul 4 pagi adalah waktu paling sepi. Temuan ini bisa menjadi peluang bagi perusahaan untuk melakukan promosi efektif di sekitar jam puncak tersebut, untuk menarik lebih banyak pelanggan.\n"
   ]
  },
  {
   "cell_type": "markdown",
   "metadata": {
    "id": "9y4VUsmcYNZ5"
   },
   "source": [
    "## Analisis Lanjutan (Opsional)"
   ]
  },
  {
   "cell_type": "code",
   "execution_count": 43,
   "metadata": {
    "colab": {
     "base_uri": "https://localhost:8080/"
    },
    "executionInfo": {
     "elapsed": 30,
     "status": "ok",
     "timestamp": 1727947240384,
     "user": {
      "displayName": "Steven Gramanuel",
      "userId": "10634889113243061284"
     },
     "user_tz": -420
    },
    "id": "820hxI8hfjue",
    "outputId": "eee00b05-f7b2-4bd0-f4d1-04625ffc9bb3"
   },
   "outputs": [
    {
     "name": "stdout",
     "output_type": "stream",
     "text": [
      "<class 'pandas.core.frame.DataFrame'>\n",
      "RangeIndex: 17379 entries, 0 to 17378\n",
      "Data columns (total 13 columns):\n",
      " #   Column             Non-Null Count  Dtype         \n",
      "---  ------             --------------  -----         \n",
      " 0   instant            17379 non-null  int64         \n",
      " 1   date               17379 non-null  datetime64[ns]\n",
      " 2   season             17379 non-null  object        \n",
      " 3   year               17379 non-null  int64         \n",
      " 4   month              17379 non-null  object        \n",
      " 5   hour               17379 non-null  int64         \n",
      " 6   holiday            17379 non-null  int64         \n",
      " 7   weekday            17379 non-null  int64         \n",
      " 8   workingday         17379 non-null  int64         \n",
      " 9   weather_condition  17379 non-null  object        \n",
      " 10  casual             17379 non-null  int64         \n",
      " 11  registered         17379 non-null  int64         \n",
      " 12  total_count        17379 non-null  int64         \n",
      "dtypes: datetime64[ns](1), int64(9), object(3)\n",
      "memory usage: 1.7+ MB\n"
     ]
    }
   ],
   "source": [
    "hour_df.info()"
   ]
  },
  {
   "cell_type": "code",
   "execution_count": 44,
   "metadata": {
    "colab": {
     "base_uri": "https://localhost:8080/",
     "height": 206
    },
    "executionInfo": {
     "elapsed": 26,
     "status": "ok",
     "timestamp": 1727947240384,
     "user": {
      "displayName": "Steven Gramanuel",
      "userId": "10634889113243061284"
     },
     "user_tz": -420
    },
    "id": "lUs7GDtGfjue",
    "outputId": "6b37f0ca-bb7f-45d0-e156-93c225a45b20"
   },
   "outputs": [
    {
     "data": {
      "text/html": [
       "<div>\n",
       "<style scoped>\n",
       "    .dataframe tbody tr th:only-of-type {\n",
       "        vertical-align: middle;\n",
       "    }\n",
       "\n",
       "    .dataframe tbody tr th {\n",
       "        vertical-align: top;\n",
       "    }\n",
       "\n",
       "    .dataframe thead th {\n",
       "        text-align: right;\n",
       "    }\n",
       "</style>\n",
       "<table border=\"1\" class=\"dataframe\">\n",
       "  <thead>\n",
       "    <tr style=\"text-align: right;\">\n",
       "      <th></th>\n",
       "      <th>hour</th>\n",
       "      <th>order_count</th>\n",
       "      <th>revenue</th>\n",
       "      <th>recency</th>\n",
       "    </tr>\n",
       "  </thead>\n",
       "  <tbody>\n",
       "    <tr>\n",
       "      <th>0</th>\n",
       "      <td>0</td>\n",
       "      <td>726</td>\n",
       "      <td>39130</td>\n",
       "      <td>0</td>\n",
       "    </tr>\n",
       "    <tr>\n",
       "      <th>1</th>\n",
       "      <td>1</td>\n",
       "      <td>724</td>\n",
       "      <td>24164</td>\n",
       "      <td>0</td>\n",
       "    </tr>\n",
       "    <tr>\n",
       "      <th>2</th>\n",
       "      <td>2</td>\n",
       "      <td>715</td>\n",
       "      <td>16352</td>\n",
       "      <td>0</td>\n",
       "    </tr>\n",
       "    <tr>\n",
       "      <th>3</th>\n",
       "      <td>3</td>\n",
       "      <td>697</td>\n",
       "      <td>8174</td>\n",
       "      <td>0</td>\n",
       "    </tr>\n",
       "    <tr>\n",
       "      <th>4</th>\n",
       "      <td>4</td>\n",
       "      <td>697</td>\n",
       "      <td>4428</td>\n",
       "      <td>0</td>\n",
       "    </tr>\n",
       "  </tbody>\n",
       "</table>\n",
       "</div>"
      ],
      "text/plain": [
       "   hour  order_count  revenue  recency\n",
       "0     0          726    39130        0\n",
       "1     1          724    24164        0\n",
       "2     2          715    16352        0\n",
       "3     3          697     8174        0\n",
       "4     4          697     4428        0"
      ]
     },
     "execution_count": 44,
     "metadata": {},
     "output_type": "execute_result"
    }
   ],
   "source": [
    "# Mengelompokkan data berdasarkan jam, menghitung nilai agregasi\n",
    "rfm_analisis = hour_df.groupby(by=\"hour\", as_index=False).agg({\n",
    "    \"date\": \"max\",        # Tanggal terakhir (terbaru)\n",
    "    \"instant\": \"nunique\",  # Menghitung unik ID order\n",
    "    \"total_count\": \"sum\"   # Jumlah total penyewaan\n",
    "})\n",
    "\n",
    "# Mengganti nama kolom\n",
    "rfm_analisis.columns = [\"hour\", \"last_order_date\", \"order_count\", \"revenue\"]\n",
    "\n",
    "# Mendapatkan nilai tanggal terbaru (recent date) dari kolom 'date'\n",
    "recent_date = hour_df[\"date\"].max().date()\n",
    "\n",
    "# Perhitungan recency dalam hari\n",
    "rfm_analisis[\"last_order_date\"] = rfm_analisis[\"last_order_date\"].dt.date\n",
    "rfm_analisis[\"recency\"] = rfm_analisis[\"last_order_date\"].apply(lambda x: (recent_date - x).days)\n",
    "\n",
    "# Drop kolom 'last_order_date' setelah menghitung recency\n",
    "rfm_analisis.drop(\"last_order_date\", axis=1, inplace=True)\n",
    "\n",
    "# Menampilkan hasil akhir\n",
    "rfm_analisis.head()\n"
   ]
  },
  {
   "cell_type": "code",
   "execution_count": 45,
   "metadata": {
    "colab": {
     "base_uri": "https://localhost:8080/",
     "height": 291
    },
    "executionInfo": {
     "elapsed": 24,
     "status": "ok",
     "timestamp": 1727947240384,
     "user": {
      "displayName": "Steven Gramanuel",
      "userId": "10634889113243061284"
     },
     "user_tz": -420
    },
    "id": "T1BiHjGifjuf",
    "outputId": "0a6eaa3e-7f13-4daf-cece-f830bd56d46e"
   },
   "outputs": [
    {
     "data": {
      "image/png": "[encoded data removed]",
      "text/plain": [
       "<Figure size 3000x600 with 3 Axes>"
      ]
     },
     "metadata": {},
     "output_type": "display_data"
    }
   ],
   "source": [
    "# Sortir data berdasarkan parameter RFM dengan variabel baru\n",
    "top_recency_new = rfm_analisis.sort_values(by=\"recency\", ascending=True).head(5)\n",
    "top_frequency_new = rfm_analisis.sort_values(by=\"order_count\", ascending=False).head(5)\n",
    "top_monetary_new = rfm_analisis.sort_values(by=\"revenue\", ascending=False).head(5)\n",
    "\n",
    "# Membuat bar plot untuk RFM\n",
    "fig, ax = plt.subplots(nrows=1, ncols=3, figsize=(30, 6))\n",
    "\n",
    "# Plot top recency\n",
    "sns.barplot(\n",
    "    data=top_recency_new,\n",
    "    x=\"hour\",\n",
    "    y=\"recency\",\n",
    "    color='tab:red',\n",
    "    ax=ax[0]\n",
    ")\n",
    "ax[0].set_ylabel(None)\n",
    "ax[0].set_xlabel(None)\n",
    "ax[0].set_title(\"Recency (days)\", loc=\"center\", fontsize=18)\n",
    "ax[0].tick_params(axis='x', labelsize=15)\n",
    "\n",
    "# Plot top frequency\n",
    "sns.barplot(\n",
    "    data=top_frequency_new,\n",
    "    x=\"hour\",\n",
    "    y=\"order_count\",\n",
    "    color='tab:red',\n",
    "    ax=ax[1]\n",
    ")\n",
    "ax[1].set_ylabel(None)\n",
    "ax[1].set_xlabel(None)\n",
    "ax[1].set_title(\"Frequency\", loc=\"center\", fontsize=18)\n",
    "ax[1].tick_params(axis='x', labelsize=20)\n",
    "\n",
    "# Plot top monetary\n",
    "sns.barplot(\n",
    "    data=top_monetary_new,\n",
    "    x=\"hour\",\n",
    "    y=\"revenue\",\n",
    "    color='tab:red',\n",
    "    ax=ax[2]\n",
    ")\n",
    "ax[2].set_ylabel(None)\n",
    "ax[2].set_xlabel(None)\n",
    "ax[2].set_title(\"Monetary\", loc=\"center\", fontsize=18)\n",
    "ax[2].tick_params(axis='x', labelsize=15)\n",
    "\n",
    "# Setel judul utama untuk plot\n",
    "plt.suptitle(\"Rental Terbaik Berdasarkan Parameter RFM\", fontsize=20)\n",
    "plt.show()\n"
   ]
  },
  {
   "cell_type": "markdown",
   "metadata": {
    "id": "ZTcyR48Y8DC2"
   },
   "source": [
    "**Kesimpulan**\n",
    "1. **Recency**: Menunjukkan jam di mana transaksi terakhir paling baru dilakukan.\n",
    "2. **Frequency**: Mengukur seberapa sering transaksi terjadi pada jam tersebut, dengan jam yang lebih sering digunakan muncul di urutan teratas.\n",
    "3. **Monetary**: Menggambarkan jumlah total transaksi yang terjadi pada jam tersebut, menampilkan jam dengan pendapatan tertinggi di posisi teratas.\n",
    "\n",
    "RFM Analysis ini menggunakan kolom jam untuk mengidentifikasi waktu-waktu optimal dalam sehari yang dapat memberikan kontribusi maksimal terhadap jumlah penyewaan sepeda."
   ]
  }
 ],
 "metadata": {
  "colab": {
   "collapsed_sections": [
    "H9wADwK78DCz",
    "eE0raob58DC0",
    "H-z4QGlO8DC1",
    "h_Sh51Xy8DC1",
    "sXU2GBYu8DC1",
    "FHSiqaZp8DC1",
    "EhN5R4hr8DC1",
    "gp-Y6wU38DC1"
   ],
   "provenance": [
    {
     "file_id": "15PNj20bPhBCq9Q6Lpy2OBQDp7AR6M9eY",
     "timestamp": 1727844764791
    },
    {
     "file_id": "1ug4Ox4qIFDSo1koFA0XiNJE-ce12rECy",
     "timestamp": 1727772342068
    }
   ]
  },
  "kernelspec": {
   "display_name": "Python 3",
   "language": "python",
   "name": "python3"
  },
  "language_info": {
   "codemirror_mode": {
    "name": "ipython",
    "version": 3
   },
   "file_extension": ".py",
   "mimetype": "text/x-python",
   "name": "python",
   "nbconvert_exporter": "python",
   "pygments_lexer": "ipython3",
   "version": "3.13.4"
  },
  "orig_nbformat": 4
 },
 "nbformat": 4,
 "nbformat_minor": 0
}
